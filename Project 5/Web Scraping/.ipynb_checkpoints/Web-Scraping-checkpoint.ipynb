{
 "cells": [
  {
   "cell_type": "markdown",
   "id": "6c9ec888-0d89-48a7-a3b8-1b289520b6db",
   "metadata": {},
   "source": [
    "## WEB SCRAPING!"
   ]
  },
  {
   "cell_type": "markdown",
   "id": "59fc6e11-7ad3-4ccc-9964-18f2b558ef69",
   "metadata": {},
   "source": [
    "### Website to scrape:- http://books.toscrape.com/"
   ]
  },
  {
   "cell_type": "markdown",
   "id": "98f8d01e-d342-4244-8139-d7286f9d7927",
   "metadata": {},
   "source": [
    "#### importing required libraries"
   ]
  },
  {
   "cell_type": "code",
   "execution_count": 1,
   "id": "9de5abb8-091c-45ac-8cae-db3467ff0d97",
   "metadata": {},
   "outputs": [],
   "source": [
    "import requests\n",
    "from bs4 import BeautifulSoup\n",
    "import pandas as pd"
   ]
  },
  {
   "cell_type": "markdown",
   "id": "468dd97e-70d1-4b99-92b2-a878e2996352",
   "metadata": {},
   "source": [
    "#### assigning website url to variable url"
   ]
  },
  {
   "cell_type": "code",
   "execution_count": 2,
   "id": "a92f7405-a8dc-41b2-a4da-978d9e3bf4c8",
   "metadata": {},
   "outputs": [],
   "source": [
    "url = \"http://books.toscrape.com/\""
   ]
  },
  {
   "cell_type": "code",
   "execution_count": 3,
   "id": "3b103d9c-43ff-4eef-bd4b-a6920182dd60",
   "metadata": {},
   "outputs": [
    {
     "data": {
      "text/plain": [
       "'http://books.toscrape.com/'"
      ]
     },
     "execution_count": 3,
     "metadata": {},
     "output_type": "execute_result"
    }
   ],
   "source": [
    "url"
   ]
  },
  {
   "cell_type": "code",
   "execution_count": 4,
   "id": "05564b3a-0fd2-4ddb-9625-1c101497855b",
   "metadata": {},
   "outputs": [],
   "source": [
    "r = requests.get(url)"
   ]
  },
  {
   "cell_type": "code",
   "execution_count": 5,
   "id": "0b942a34-8108-4cc4-b4fb-e5c42638cdb2",
   "metadata": {},
   "outputs": [
    {
     "name": "stdout",
     "output_type": "stream",
     "text": [
      "200\n"
     ]
    }
   ],
   "source": [
    "print(r.status_code)"
   ]
  },
  {
   "cell_type": "markdown",
   "id": "88bda634-24f3-4cd0-bcd2-9ddc44d1530a",
   "metadata": {},
   "source": [
    "A response status code of 200  indicates a successful HTTP request. \n",
    "A status code of 200 means that the request to the website was successful, and the server has returned the requested web page."
   ]
  },
  {
   "cell_type": "code",
   "execution_count": 10,
   "id": "601012ea-0f74-4f61-a49d-f6323d4c116f",
   "metadata": {},
   "outputs": [],
   "source": [
    "soup = BeautifulSoup(r.text, 'html.parser')"
   ]
  },
  {
   "cell_type": "code",
   "execution_count": 15,
   "id": "d650b90b-7cad-4194-9bb0-36441c3e87b2",
   "metadata": {},
   "outputs": [],
   "source": [
    "books = soup.find_all('article',class_='product_pod')"
   ]
  },
  {
   "cell_type": "code",
   "execution_count": 16,
   "id": "2ebbc346-fdb2-46d1-9671-8b085e4ec1be",
   "metadata": {},
   "outputs": [
    {
     "data": {
      "text/plain": [
       "20"
      ]
     },
     "execution_count": 16,
     "metadata": {},
     "output_type": "execute_result"
    }
   ],
   "source": [
    "len(books)"
   ]
  },
  {
   "cell_type": "code",
   "execution_count": 17,
   "id": "6cf07fa1-ed28-4372-a4ed-61e57cef86f9",
   "metadata": {},
   "outputs": [],
   "source": [
    "titles = []\n",
    "ratings = []\n",
    "prices = []\n",
    "links = []"
   ]
  },
  {
   "cell_type": "code",
   "execution_count": 47,
   "id": "6039c72a-b7bb-4345-af11-01ad2cf6f1ee",
   "metadata": {},
   "outputs": [],
   "source": [
    "for i in books:\n",
    "    title = i.h3.a['title']\n",
    "    titles.append(title)"
   ]
  },
  {
   "cell_type": "code",
   "execution_count": 54,
   "id": "0500d4b2-b096-404b-b54b-6bc052467551",
   "metadata": {},
   "outputs": [
    {
     "data": {
      "text/plain": [
       "'Three'"
      ]
     },
     "execution_count": 54,
     "metadata": {},
     "output_type": "execute_result"
    }
   ],
   "source": [
    "rating_tag = soup.find('p')['class'][1]\n",
    "rating_tag"
   ]
  },
  {
   "cell_type": "code",
   "execution_count": 56,
   "id": "7bc69ed3-7b63-4cca-a13e-fb93d601ff7f",
   "metadata": {},
   "outputs": [
    {
     "data": {
      "text/plain": [
       "'£51.77'"
      ]
     },
     "execution_count": 56,
     "metadata": {},
     "output_type": "execute_result"
    }
   ],
   "source": [
    "price_tag = soup.find('p',class_='price_color').text[1:]\n",
    "price_tag"
   ]
  },
  {
   "cell_type": "code",
   "execution_count": 59,
   "id": "f8d999ad-1a62-4bed-b46b-bf5777fb33df",
   "metadata": {},
   "outputs": [
    {
     "data": {
      "text/plain": [
       "'http://books.toscrape.com/index.html'"
      ]
     },
     "execution_count": 59,
     "metadata": {},
     "output_type": "execute_result"
    }
   ],
   "source": [
    "link_tag = 'http://books.toscrape.com/' + soup.find('a')['href']\n",
    "link_tag"
   ]
  },
  {
   "cell_type": "code",
   "execution_count": 62,
   "id": "f2d222a7-7b64-412f-96c3-b9341c5cddbe",
   "metadata": {},
   "outputs": [],
   "source": [
    "data=[]\n",
    "for i in books:\n",
    "  title_tag = i.find('a',title=True)['title']\n",
    "  rating_tag = i.find('p')['class'][1]\n",
    "  price_tag = i.find('p',class_='price_color').text[1:]\n",
    "  link_tag = 'http://books.toscrape.com/' + i.find('a')['href']\n",
    "\n",
    "  data.append([title_tag, price_tag, rating_tag, link_tag])"
   ]
  },
  {
   "cell_type": "code",
   "execution_count": 63,
   "id": "8cdd24c1-e152-455f-9aca-55e2eb7df7c5",
   "metadata": {},
   "outputs": [
    {
     "data": {
      "text/plain": [
       "[['A Light in the Attic',\n",
       "  '£51.77',\n",
       "  'Three',\n",
       "  'http://books.toscrape.com/catalogue/a-light-in-the-attic_1000/index.html'],\n",
       " ['Tipping the Velvet',\n",
       "  '£53.74',\n",
       "  'One',\n",
       "  'http://books.toscrape.com/catalogue/tipping-the-velvet_999/index.html'],\n",
       " ['Soumission',\n",
       "  '£50.10',\n",
       "  'One',\n",
       "  'http://books.toscrape.com/catalogue/soumission_998/index.html'],\n",
       " ['Sharp Objects',\n",
       "  '£47.82',\n",
       "  'Four',\n",
       "  'http://books.toscrape.com/catalogue/sharp-objects_997/index.html'],\n",
       " ['Sapiens: A Brief History of Humankind',\n",
       "  '£54.23',\n",
       "  'Five',\n",
       "  'http://books.toscrape.com/catalogue/sapiens-a-brief-history-of-humankind_996/index.html'],\n",
       " ['The Requiem Red',\n",
       "  '£22.65',\n",
       "  'One',\n",
       "  'http://books.toscrape.com/catalogue/the-requiem-red_995/index.html'],\n",
       " ['The Dirty Little Secrets of Getting Your Dream Job',\n",
       "  '£33.34',\n",
       "  'Four',\n",
       "  'http://books.toscrape.com/catalogue/the-dirty-little-secrets-of-getting-your-dream-job_994/index.html'],\n",
       " ['The Coming Woman: A Novel Based on the Life of the Infamous Feminist, Victoria Woodhull',\n",
       "  '£17.93',\n",
       "  'Three',\n",
       "  'http://books.toscrape.com/catalogue/the-coming-woman-a-novel-based-on-the-life-of-the-infamous-feminist-victoria-woodhull_993/index.html'],\n",
       " ['The Boys in the Boat: Nine Americans and Their Epic Quest for Gold at the 1936 Berlin Olympics',\n",
       "  '£22.60',\n",
       "  'Four',\n",
       "  'http://books.toscrape.com/catalogue/the-boys-in-the-boat-nine-americans-and-their-epic-quest-for-gold-at-the-1936-berlin-olympics_992/index.html'],\n",
       " ['The Black Maria',\n",
       "  '£52.15',\n",
       "  'One',\n",
       "  'http://books.toscrape.com/catalogue/the-black-maria_991/index.html'],\n",
       " ['Starving Hearts (Triangular Trade Trilogy, #1)',\n",
       "  '£13.99',\n",
       "  'Two',\n",
       "  'http://books.toscrape.com/catalogue/starving-hearts-triangular-trade-trilogy-1_990/index.html'],\n",
       " [\"Shakespeare's Sonnets\",\n",
       "  '£20.66',\n",
       "  'Four',\n",
       "  'http://books.toscrape.com/catalogue/shakespeares-sonnets_989/index.html'],\n",
       " ['Set Me Free',\n",
       "  '£17.46',\n",
       "  'Five',\n",
       "  'http://books.toscrape.com/catalogue/set-me-free_988/index.html'],\n",
       " [\"Scott Pilgrim's Precious Little Life (Scott Pilgrim #1)\",\n",
       "  '£52.29',\n",
       "  'Five',\n",
       "  'http://books.toscrape.com/catalogue/scott-pilgrims-precious-little-life-scott-pilgrim-1_987/index.html'],\n",
       " ['Rip it Up and Start Again',\n",
       "  '£35.02',\n",
       "  'Five',\n",
       "  'http://books.toscrape.com/catalogue/rip-it-up-and-start-again_986/index.html'],\n",
       " ['Our Band Could Be Your Life: Scenes from the American Indie Underground, 1981-1991',\n",
       "  '£57.25',\n",
       "  'Three',\n",
       "  'http://books.toscrape.com/catalogue/our-band-could-be-your-life-scenes-from-the-american-indie-underground-1981-1991_985/index.html'],\n",
       " ['Olio',\n",
       "  '£23.88',\n",
       "  'One',\n",
       "  'http://books.toscrape.com/catalogue/olio_984/index.html'],\n",
       " ['Mesaerion: The Best Science Fiction Stories 1800-1849',\n",
       "  '£37.59',\n",
       "  'One',\n",
       "  'http://books.toscrape.com/catalogue/mesaerion-the-best-science-fiction-stories-1800-1849_983/index.html'],\n",
       " ['Libertarianism for Beginners',\n",
       "  '£51.33',\n",
       "  'Two',\n",
       "  'http://books.toscrape.com/catalogue/libertarianism-for-beginners_982/index.html'],\n",
       " [\"It's Only the Himalayas\",\n",
       "  '£45.17',\n",
       "  'Two',\n",
       "  'http://books.toscrape.com/catalogue/its-only-the-himalayas_981/index.html']]"
      ]
     },
     "execution_count": 63,
     "metadata": {},
     "output_type": "execute_result"
    }
   ],
   "source": [
    "data"
   ]
  },
  {
   "cell_type": "code",
   "execution_count": 64,
   "id": "6f192633-06e3-483d-bd28-cbe7534ad365",
   "metadata": {},
   "outputs": [],
   "source": [
    "columns = ['Title', 'Price', 'Rating', 'Link']\n",
    "data = pd.DataFrame(data, columns=columns)"
   ]
  },
  {
   "cell_type": "code",
   "execution_count": 65,
   "id": "9b94ec61-2ae3-4caa-887d-04ac90829728",
   "metadata": {},
   "outputs": [
    {
     "data": {
      "text/html": [
       "<div>\n",
       "<style scoped>\n",
       "    .dataframe tbody tr th:only-of-type {\n",
       "        vertical-align: middle;\n",
       "    }\n",
       "\n",
       "    .dataframe tbody tr th {\n",
       "        vertical-align: top;\n",
       "    }\n",
       "\n",
       "    .dataframe thead th {\n",
       "        text-align: right;\n",
       "    }\n",
       "</style>\n",
       "<table border=\"1\" class=\"dataframe\">\n",
       "  <thead>\n",
       "    <tr style=\"text-align: right;\">\n",
       "      <th></th>\n",
       "      <th>Title</th>\n",
       "      <th>Price</th>\n",
       "      <th>Rating</th>\n",
       "      <th>Link</th>\n",
       "    </tr>\n",
       "  </thead>\n",
       "  <tbody>\n",
       "    <tr>\n",
       "      <th>0</th>\n",
       "      <td>A Light in the Attic</td>\n",
       "      <td>£51.77</td>\n",
       "      <td>Three</td>\n",
       "      <td>http://books.toscrape.com/catalogue/a-light-in...</td>\n",
       "    </tr>\n",
       "    <tr>\n",
       "      <th>1</th>\n",
       "      <td>Tipping the Velvet</td>\n",
       "      <td>£53.74</td>\n",
       "      <td>One</td>\n",
       "      <td>http://books.toscrape.com/catalogue/tipping-th...</td>\n",
       "    </tr>\n",
       "    <tr>\n",
       "      <th>2</th>\n",
       "      <td>Soumission</td>\n",
       "      <td>£50.10</td>\n",
       "      <td>One</td>\n",
       "      <td>http://books.toscrape.com/catalogue/soumission...</td>\n",
       "    </tr>\n",
       "    <tr>\n",
       "      <th>3</th>\n",
       "      <td>Sharp Objects</td>\n",
       "      <td>£47.82</td>\n",
       "      <td>Four</td>\n",
       "      <td>http://books.toscrape.com/catalogue/sharp-obje...</td>\n",
       "    </tr>\n",
       "    <tr>\n",
       "      <th>4</th>\n",
       "      <td>Sapiens: A Brief History of Humankind</td>\n",
       "      <td>£54.23</td>\n",
       "      <td>Five</td>\n",
       "      <td>http://books.toscrape.com/catalogue/sapiens-a-...</td>\n",
       "    </tr>\n",
       "    <tr>\n",
       "      <th>5</th>\n",
       "      <td>The Requiem Red</td>\n",
       "      <td>£22.65</td>\n",
       "      <td>One</td>\n",
       "      <td>http://books.toscrape.com/catalogue/the-requie...</td>\n",
       "    </tr>\n",
       "    <tr>\n",
       "      <th>6</th>\n",
       "      <td>The Dirty Little Secrets of Getting Your Dream...</td>\n",
       "      <td>£33.34</td>\n",
       "      <td>Four</td>\n",
       "      <td>http://books.toscrape.com/catalogue/the-dirty-...</td>\n",
       "    </tr>\n",
       "    <tr>\n",
       "      <th>7</th>\n",
       "      <td>The Coming Woman: A Novel Based on the Life of...</td>\n",
       "      <td>£17.93</td>\n",
       "      <td>Three</td>\n",
       "      <td>http://books.toscrape.com/catalogue/the-coming...</td>\n",
       "    </tr>\n",
       "    <tr>\n",
       "      <th>8</th>\n",
       "      <td>The Boys in the Boat: Nine Americans and Their...</td>\n",
       "      <td>£22.60</td>\n",
       "      <td>Four</td>\n",
       "      <td>http://books.toscrape.com/catalogue/the-boys-i...</td>\n",
       "    </tr>\n",
       "    <tr>\n",
       "      <th>9</th>\n",
       "      <td>The Black Maria</td>\n",
       "      <td>£52.15</td>\n",
       "      <td>One</td>\n",
       "      <td>http://books.toscrape.com/catalogue/the-black-...</td>\n",
       "    </tr>\n",
       "    <tr>\n",
       "      <th>10</th>\n",
       "      <td>Starving Hearts (Triangular Trade Trilogy, #1)</td>\n",
       "      <td>£13.99</td>\n",
       "      <td>Two</td>\n",
       "      <td>http://books.toscrape.com/catalogue/starving-h...</td>\n",
       "    </tr>\n",
       "    <tr>\n",
       "      <th>11</th>\n",
       "      <td>Shakespeare's Sonnets</td>\n",
       "      <td>£20.66</td>\n",
       "      <td>Four</td>\n",
       "      <td>http://books.toscrape.com/catalogue/shakespear...</td>\n",
       "    </tr>\n",
       "    <tr>\n",
       "      <th>12</th>\n",
       "      <td>Set Me Free</td>\n",
       "      <td>£17.46</td>\n",
       "      <td>Five</td>\n",
       "      <td>http://books.toscrape.com/catalogue/set-me-fre...</td>\n",
       "    </tr>\n",
       "    <tr>\n",
       "      <th>13</th>\n",
       "      <td>Scott Pilgrim's Precious Little Life (Scott Pi...</td>\n",
       "      <td>£52.29</td>\n",
       "      <td>Five</td>\n",
       "      <td>http://books.toscrape.com/catalogue/scott-pilg...</td>\n",
       "    </tr>\n",
       "    <tr>\n",
       "      <th>14</th>\n",
       "      <td>Rip it Up and Start Again</td>\n",
       "      <td>£35.02</td>\n",
       "      <td>Five</td>\n",
       "      <td>http://books.toscrape.com/catalogue/rip-it-up-...</td>\n",
       "    </tr>\n",
       "    <tr>\n",
       "      <th>15</th>\n",
       "      <td>Our Band Could Be Your Life: Scenes from the A...</td>\n",
       "      <td>£57.25</td>\n",
       "      <td>Three</td>\n",
       "      <td>http://books.toscrape.com/catalogue/our-band-c...</td>\n",
       "    </tr>\n",
       "    <tr>\n",
       "      <th>16</th>\n",
       "      <td>Olio</td>\n",
       "      <td>£23.88</td>\n",
       "      <td>One</td>\n",
       "      <td>http://books.toscrape.com/catalogue/olio_984/i...</td>\n",
       "    </tr>\n",
       "    <tr>\n",
       "      <th>17</th>\n",
       "      <td>Mesaerion: The Best Science Fiction Stories 18...</td>\n",
       "      <td>£37.59</td>\n",
       "      <td>One</td>\n",
       "      <td>http://books.toscrape.com/catalogue/mesaerion-...</td>\n",
       "    </tr>\n",
       "    <tr>\n",
       "      <th>18</th>\n",
       "      <td>Libertarianism for Beginners</td>\n",
       "      <td>£51.33</td>\n",
       "      <td>Two</td>\n",
       "      <td>http://books.toscrape.com/catalogue/libertaria...</td>\n",
       "    </tr>\n",
       "    <tr>\n",
       "      <th>19</th>\n",
       "      <td>It's Only the Himalayas</td>\n",
       "      <td>£45.17</td>\n",
       "      <td>Two</td>\n",
       "      <td>http://books.toscrape.com/catalogue/its-only-t...</td>\n",
       "    </tr>\n",
       "  </tbody>\n",
       "</table>\n",
       "</div>"
      ],
      "text/plain": [
       "                                                Title   Price Rating  \\\n",
       "0                                A Light in the Attic  £51.77  Three   \n",
       "1                                  Tipping the Velvet  £53.74    One   \n",
       "2                                          Soumission  £50.10    One   \n",
       "3                                       Sharp Objects  £47.82   Four   \n",
       "4               Sapiens: A Brief History of Humankind  £54.23   Five   \n",
       "5                                     The Requiem Red  £22.65    One   \n",
       "6   The Dirty Little Secrets of Getting Your Dream...  £33.34   Four   \n",
       "7   The Coming Woman: A Novel Based on the Life of...  £17.93  Three   \n",
       "8   The Boys in the Boat: Nine Americans and Their...  £22.60   Four   \n",
       "9                                     The Black Maria  £52.15    One   \n",
       "10     Starving Hearts (Triangular Trade Trilogy, #1)  £13.99    Two   \n",
       "11                              Shakespeare's Sonnets  £20.66   Four   \n",
       "12                                        Set Me Free  £17.46   Five   \n",
       "13  Scott Pilgrim's Precious Little Life (Scott Pi...  £52.29   Five   \n",
       "14                          Rip it Up and Start Again  £35.02   Five   \n",
       "15  Our Band Could Be Your Life: Scenes from the A...  £57.25  Three   \n",
       "16                                               Olio  £23.88    One   \n",
       "17  Mesaerion: The Best Science Fiction Stories 18...  £37.59    One   \n",
       "18                       Libertarianism for Beginners  £51.33    Two   \n",
       "19                            It's Only the Himalayas  £45.17    Two   \n",
       "\n",
       "                                                 Link  \n",
       "0   http://books.toscrape.com/catalogue/a-light-in...  \n",
       "1   http://books.toscrape.com/catalogue/tipping-th...  \n",
       "2   http://books.toscrape.com/catalogue/soumission...  \n",
       "3   http://books.toscrape.com/catalogue/sharp-obje...  \n",
       "4   http://books.toscrape.com/catalogue/sapiens-a-...  \n",
       "5   http://books.toscrape.com/catalogue/the-requie...  \n",
       "6   http://books.toscrape.com/catalogue/the-dirty-...  \n",
       "7   http://books.toscrape.com/catalogue/the-coming...  \n",
       "8   http://books.toscrape.com/catalogue/the-boys-i...  \n",
       "9   http://books.toscrape.com/catalogue/the-black-...  \n",
       "10  http://books.toscrape.com/catalogue/starving-h...  \n",
       "11  http://books.toscrape.com/catalogue/shakespear...  \n",
       "12  http://books.toscrape.com/catalogue/set-me-fre...  \n",
       "13  http://books.toscrape.com/catalogue/scott-pilg...  \n",
       "14  http://books.toscrape.com/catalogue/rip-it-up-...  \n",
       "15  http://books.toscrape.com/catalogue/our-band-c...  \n",
       "16  http://books.toscrape.com/catalogue/olio_984/i...  \n",
       "17  http://books.toscrape.com/catalogue/mesaerion-...  \n",
       "18  http://books.toscrape.com/catalogue/libertaria...  \n",
       "19  http://books.toscrape.com/catalogue/its-only-t...  "
      ]
     },
     "execution_count": 65,
     "metadata": {},
     "output_type": "execute_result"
    }
   ],
   "source": [
    "data"
   ]
  },
  {
   "cell_type": "code",
   "execution_count": 67,
   "id": "0536803a-9930-4995-99ba-ec0bf06c2687",
   "metadata": {},
   "outputs": [],
   "source": [
    "base_url = 'http://books.toscrape.com/catalogue/page-{}.html'\n",
    "data=[]\n",
    "for page_number in range(1,6):\n",
    "\n",
    "  # Constructing URL for each page 1to6\n",
    "  url = base_url.format(page_number)\n",
    "\n",
    "  # Make an HTTP request and create BeautifulSoup object\n",
    "  response = requests.get(url)\n",
    "  soup = BeautifulSoup(response.text, 'html.parser')\n",
    "  for i in books:\n",
    "      title_tag = i.find('a',title=True)['title']\n",
    "      rating_tag = i.find('p')['class'][1]\n",
    "      price_tag = i.find('p',class_='price_color').text[1:]\n",
    "      link_tag = 'http://books.toscrape.com/' + i.find('a')['href']\n",
    "      data.append([title_tag, price_tag, rating_tag, link_tag])"
   ]
  },
  {
   "cell_type": "code",
   "execution_count": 71,
   "id": "7cfaa2b7-fb14-4d73-b013-d34342de2065",
   "metadata": {},
   "outputs": [],
   "source": [
    "columns = ['Title', 'Price', 'Rating', 'Link']\n",
    "data = pd.DataFrame(data, columns=columns)"
   ]
  },
  {
   "cell_type": "code",
   "execution_count": 72,
   "id": "9f70459c-33f8-4853-8bfa-edcc723633ba",
   "metadata": {},
   "outputs": [
    {
     "data": {
      "text/plain": [
       "(100, 4)"
      ]
     },
     "execution_count": 72,
     "metadata": {},
     "output_type": "execute_result"
    }
   ],
   "source": [
    "data.shape"
   ]
  },
  {
   "cell_type": "code",
   "execution_count": 75,
   "id": "078f9cc2-04af-49fc-9af7-f3daa6206ab0",
   "metadata": {},
   "outputs": [],
   "source": [
    "data.to_csv('Books.csv', index=False)"
   ]
  }
 ],
 "metadata": {
  "kernelspec": {
   "display_name": "Python 3 (ipykernel)",
   "language": "python",
   "name": "python3"
  },
  "language_info": {
   "codemirror_mode": {
    "name": "ipython",
    "version": 3
   },
   "file_extension": ".py",
   "mimetype": "text/x-python",
   "name": "python",
   "nbconvert_exporter": "python",
   "pygments_lexer": "ipython3",
   "version": "3.11.5"
  }
 },
 "nbformat": 4,
 "nbformat_minor": 5
}
