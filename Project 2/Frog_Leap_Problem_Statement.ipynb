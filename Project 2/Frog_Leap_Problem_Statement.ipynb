{
  "cells": [
    {
      "cell_type": "markdown",
      "metadata": {
        "id": "fxZte1ZuP3yr"
      },
      "source": [
        "# Problem statement\n",
        "\n",
        "Create famous 'Frog leap' puzzle game. Try completing the game before starting to get an idea about its working.\n",
        "[Demonstration](https://www.neok12.com/games/leap-froggies/leap-froggies.htm).\n",
        "\n",
        "\n",
        "### Rules ###\n",
        "1. The left set of frogs can only move right, the right set of frogs can only move left.\n",
        "2. Frogs can move forward one space, or move two spaces by jumping over another frog from opposite side.\n",
        "3. The puzzle is solved when the two sets of frogs have switched positions.\n",
        "\n",
        "\n",
        "## Steps to solve the problem:\n",
        "### Step1:-\n",
        "- Display green and brown frogs on the left and right sides initially.\n",
        "\n",
        "Initial Display :-  \n",
        "```\n",
        "[ 0 ,  1 ,  2 ,  3 ,  4 ,  5 ,  6 ]\n",
        "['G', 'G', 'G', '-', 'B', 'B', 'B']\n",
        "```\n",
        "<br>\n",
        "Here 'G' represents Green frogs on the left side and 'B' represents brown frogs on the right side. The '-' defines the position of empty leaf.\n",
        "(You can change display according to your imagination or convinience)\n",
        "\n",
        "### Step2:-\n",
        "Accept positions of the frog that you want to move.<br>\n",
        "Example: If we enter position 2 then the game will look like this:-\n",
        "```\n",
        "[ 0 ,  1 ,  2 ,  3 ,  4 ,  5 ,  6 ]\n",
        "['G', 'G', '-', 'G', 'B', 'B', 'B']\n",
        "```\n",
        "\n",
        "### Step3:- ###\n",
        "Define Invalid moves and add conditional 'if' statements accordingly\n",
        "#### Rules\n",
        "1. Entered position should be between 0 to 6. Or a character 'q' to quit the game.\n",
        "2. Entered position cannot be the position of empty leaf.\n",
        "3. If the selected frog position cannot perform the contraints given in rule 2 then the move is invalid.\n",
        "\n",
        "### Step4:-\n",
        "Make the appropriate move by changing the game display."
      ]
    },
    {
      "cell_type": "markdown",
      "metadata": {
        "id": "-viYJbAFQXcJ"
      },
      "source": [
        "## Step 1\n",
        "First create a list `positions` which contains the characters 'G','B' and '-' in the same sequence as given in the initial display state."
      ]
    },
    {
      "cell_type": "code",
      "execution_count": null,
      "metadata": {
        "id": "fSvLBrjwP0sr"
      },
      "outputs": [],
      "source": [
        "### your code here\n",
        "positions=['G', 'G', 'G', '-', 'B', 'B', 'B']"
      ]
    },
    {
      "cell_type": "markdown",
      "metadata": {
        "id": "unr1AJLSQj_4"
      },
      "source": [
        "Now print this string ```[ 0 ,  1 ,  2 ,  3 ,  4 ,  5 ,  6 ]``` and after that print the list `positions`"
      ]
    },
    {
      "cell_type": "code",
      "execution_count": null,
      "metadata": {
        "colab": {
          "base_uri": "https://localhost:8080/"
        },
        "id": "qqKLcfEmQgiZ",
        "outputId": "3015fae5-4b38-403f-d1b4-e354b72bc369"
      },
      "outputs": [
        {
          "name": "stdout",
          "output_type": "stream",
          "text": [
            "[ 0  , 1 ,  2,   3,   4,   5,  6 ]\n",
            "['G', 'G', 'G', '-', 'B', 'B', 'B']\n"
          ]
        }
      ],
      "source": [
        "### your code here\n",
        "print('[ 0  , 1 ,  2,   3,   4,   5,  6 ]')\n",
        "print(positions)"
      ]
    },
    {
      "cell_type": "markdown",
      "metadata": {
        "id": "DuEVsgtjQqXV"
      },
      "source": [
        "Take position input from user and write a message as `\"Press q to quit else \\nEnter position of piece:\"`."
      ]
    },
    {
      "cell_type": "code",
      "execution_count": null,
      "metadata": {
        "colab": {
          "base_uri": "https://localhost:8080/"
        },
        "id": "nPz65EKXQnDR",
        "outputId": "ef172f6a-5faa-4521-c2b3-618b89b473d8"
      },
      "outputs": [
        {
          "name": "stdout",
          "output_type": "stream",
          "text": [
            "Press q to quit else \n",
            "Enter position of piece:2\n"
          ]
        }
      ],
      "source": [
        "### your code here\n",
        "pos=input(\"Press q to quit else \\nEnter position of piece:\")"
      ]
    },
    {
      "cell_type": "markdown",
      "metadata": {
        "id": "ejy_x_eTRJmT"
      },
      "source": [
        "Now the taken input is in string format. So first check if the input is `'q'` character. If input is `'q'` then the person is quiting the game so print `'You Lose'`."
      ]
    },
    {
      "cell_type": "code",
      "execution_count": null,
      "metadata": {
        "id": "1OrsC7P9QxO6"
      },
      "outputs": [],
      "source": [
        "### your code here\n",
        "if pos == 'q':\n",
        "   print(\"You Lose\")"
      ]
    },
    {
      "cell_type": "markdown",
      "metadata": {
        "id": "yZJeDTGlRSMe"
      },
      "source": [
        "Next if input character is not `'q'` then it has to be some integer. so convert input to integer format."
      ]
    },
    {
      "cell_type": "code",
      "execution_count": null,
      "metadata": {
        "id": "PWZj_Js6RP2G"
      },
      "outputs": [],
      "source": [
        "### your code here\n",
        "pos=int(pos)"
      ]
    },
    {
      "cell_type": "markdown",
      "metadata": {
        "id": "SyCzN-cYRXZa"
      },
      "source": [
        "## Step 2\n",
        "Now we have to check validity of the selected positions or move.<br>\n",
        "If the entered number isn't between 0 and 6, then print 'Invalid move'."
      ]
    },
    {
      "cell_type": "code",
      "execution_count": null,
      "metadata": {
        "id": "8_edLqe2RU8S"
      },
      "outputs": [],
      "source": [
        "### your code here\n",
        "if pos > 6 or pos < 0:\n",
        "  print(\"Invalid move\") #it should be between 0-6"
      ]
    },
    {
      "cell_type": "markdown",
      "metadata": {
        "id": "Va03g0l5Rlkx"
      },
      "source": [
        "A frog should be present on the selected position to make a move. If leaf is selected then it doesn't make sense. Therefore, if entered postition is same as the postition of empty leaf then the move is invalid and print `Invalid Move`"
      ]
    },
    {
      "cell_type": "code",
      "execution_count": null,
      "metadata": {
        "id": "uM2-D1xGRiH4"
      },
      "outputs": [],
      "source": [
        "### your code here\n",
        "if positions[pos] == '-':\n",
        "  print(\"Invalid Move\")"
      ]
    },
    {
      "cell_type": "markdown",
      "metadata": {
        "id": "cp5q2ahQTnwI"
      },
      "source": [
        "Initialize a variable named `pos2` at value 0, to store the index of empty leaf, so that we can use it later."
      ]
    },
    {
      "cell_type": "code",
      "execution_count": null,
      "metadata": {
        "colab": {
          "base_uri": "https://localhost:8080/"
        },
        "id": "1SkBYDnaTpiV",
        "outputId": "e09b57e1-bf50-4f62-cf57-9469ee7bb8cb"
      },
      "outputs": [
        {
          "output_type": "stream",
          "name": "stdout",
          "text": [
            "-\n"
          ]
        }
      ],
      "source": [
        "### your code here\n",
        "pos2 = positions[3]\n",
        "print(pos2)"
      ]
    },
    {
      "cell_type": "markdown",
      "metadata": {
        "id": "V9UFD623R3Oa"
      },
      "source": [
        "```   \n",
        "    Check if the selected frog is 'G':\n",
        "  \n",
        "        (Inside if when it's 'G'. As 'G' is selected frog can move to right only.)\n",
        "        \n",
        "        ❗condition 1\n",
        "\n",
        "        If **selected_position + 1** is less than or equal to 6 and **curent_position + 1** contains '-'\n",
        "        then it's a valid move and store that postion in `pos2`.\n",
        "        \n",
        "        ❗condition2\n",
        "\n",
        "        Else if **selected_position + 2** is less than or equal to 6 and if **current_position + 2**\n",
        "        contains '-' and if **selected_position + 1** contains 'B' then it's a valid move  and store that postion in `pos2`.\n",
        "        \n",
        "        ❗condition3:\n",
        "\n",
        "        Else remainig all are invalid, so print `Invalid Move`\n",
        "      \n",
        "```"
      ]
    },
    {
      "cell_type": "code",
      "execution_count": null,
      "metadata": {
        "colab": {
          "base_uri": "https://localhost:8080/"
        },
        "id": "IDHxpibURriq",
        "outputId": "a9d5ce29-891d-43d6-d29c-7e1e9686d458"
      },
      "outputs": [
        {
          "name": "stdout",
          "output_type": "stream",
          "text": [
            "3\n"
          ]
        }
      ],
      "source": [
        "### your code here\n",
        "if positions[pos]=='G':\n",
        "  if (pos+1) <=6 and positions[pos+1] == '-':\n",
        "    pos2=pos+1\n",
        "  elif pos+2 <= 6 and positions[pos+2] == '-' and positions[pos+1] == 'B':\n",
        "    pos2=pos+1\n",
        "  else:\n",
        "    print(\"Invalid Move\")\n",
        "print(pos2)\n"
      ]
    },
    {
      "cell_type": "markdown",
      "metadata": {
        "id": "DyQX5nUsTZPF"
      },
      "source": [
        "```\n",
        "    Check if the selected frog is 'B':\n",
        "    \n",
        "        (Inside if when it's 'B'. As 'B' is selected frog can move to left only.)\n",
        "        \n",
        "        ❗condition1:\n",
        "\n",
        "        If **selected_position - 1** is more than or equal to 0 and **curent_position - 1** contains '-' then\n",
        "        it's a valid move and and store that postion in `pos2`.\n",
        "        \n",
        "        ❗condition2:\n",
        "\n",
        "        Else if **selected_position - 2** is more than or equal to 0 and if **current_position - 2** contains '-'\n",
        "        and if **selected_position - 1** contains 'G' then it's a valid move and and store that postion in `pos2`.\n",
        "\n",
        "        ❗condition3:\n",
        "        \n",
        "        Else remainig all are invalid,, so print `Invalid Move`.\n",
        "        \n",
        "```"
      ]
    },
    {
      "cell_type": "code",
      "execution_count": null,
      "metadata": {
        "id": "cQ2G3ZO_TWU5"
      },
      "outputs": [],
      "source": [
        "### your code here\n",
        "if positions[pos] == 'B':\n",
        "  if pos-1 >= 0 and positions[pos-1] == '-':\n",
        "    pos2=pos-1\n",
        "  elif pos-2 >=0 and positions[pos-2] == '-' and positions[pos-1] == 'G':\n",
        "    pos2=pos-2\n",
        "  else:\n",
        "    print(\"Invalid Move\")"
      ]
    },
    {
      "cell_type": "markdown",
      "metadata": {
        "id": "Vads2oztUd4g"
      },
      "source": [
        "Swap the element at selected positions and calculated position2 in the list.<br> So basically we are moving the frog to next valid position by swapping elelments of array."
      ]
    },
    {
      "cell_type": "code",
      "execution_count": null,
      "metadata": {
        "colab": {
          "base_uri": "https://localhost:8080/"
        },
        "id": "jXOGtww7UeYQ",
        "outputId": "3c797f54-2089-43eb-86e5-85ac7263df85"
      },
      "outputs": [
        {
          "name": "stdout",
          "output_type": "stream",
          "text": [
            "G -\n"
          ]
        }
      ],
      "source": [
        "### your code here\n",
        "positions[pos],positions[pos2]=positions[pos2],positions[pos]\n",
        "print(positions[pos],positions[pos2])"
      ]
    },
    {
      "cell_type": "markdown",
      "metadata": {
        "id": "8qF4Q2HsUlZ4"
      },
      "source": [
        "Now print the display of the game again to see the change.<br>\n",
        "If we enter position 2 then the output will look like this:-\n",
        "```\n",
        "[ 0 ,  1 ,  2 ,  3 ,  4 ,  5 ,  6 ]\n",
        "['G', 'G', '-', 'G', 'B', 'B', 'B']\n",
        "```"
      ]
    },
    {
      "cell_type": "code",
      "execution_count": null,
      "metadata": {
        "colab": {
          "base_uri": "https://localhost:8080/"
        },
        "id": "0S3oNzG3UifK",
        "outputId": "36b0f9f7-d908-4b36-d128-acb983fba636"
      },
      "outputs": [
        {
          "name": "stdout",
          "output_type": "stream",
          "text": [
            "['G', 'G', '-', 'G', 'B', 'B', 'B']\n"
          ]
        }
      ],
      "source": [
        "### your code here\n",
        "print(positions)"
      ]
    },
    {
      "cell_type": "markdown",
      "metadata": {
        "id": "EILVGu48UsH-"
      },
      "source": [
        "Check for winning condition by comparing the elements of list. If player has won the game print `'You Win'`"
      ]
    },
    {
      "cell_type": "code",
      "execution_count": null,
      "metadata": {
        "id": "GYkZdiA6Uote"
      },
      "outputs": [],
      "source": [
        "### your code here\n",
        "if positions == ['B', 'B', 'B', '-', 'G', 'G', 'G']:\n",
        "  print(\"You Win\")"
      ]
    },
    {
      "cell_type": "markdown",
      "metadata": {
        "id": "a2a0HHjiUyQ8"
      },
      "source": [
        "Now the game should keep running until the player quits, so place all conditional statements inside an infinite loop.<br>\n",
        "\n",
        "1. We have to `'break'` the loop if the player presses `'q'` and quits.\n",
        "\n",
        "2. If the move made by player is `'Invalid Move'` then we have to `'continue'` without executing remaining part of the selected iteration.\n",
        "\n",
        "3. If player wins the game we have to `break` the loop.\n",
        "\n",
        "\n",
        "```\n",
        "Infinite loop:\n",
        "    (inside loop)\n",
        "    1.Take input\n",
        "    2.Check all valid and invalid conditions of `pos`.\n",
        "    3.Make the appropriate move by calculating `pos2`.\n",
        "    4.Display game\n",
        "    4.Check winning condition\n",
        "```"
      ]
    },
    {
      "cell_type": "code",
      "execution_count": null,
      "metadata": {
        "colab": {
          "base_uri": "https://localhost:8080/"
        },
        "id": "f5-piKsEJFry",
        "outputId": "fb5eb604-52ca-438d-93c1-c8ceeacc2b52"
      },
      "outputs": [
        {
          "output_type": "stream",
          "name": "stdout",
          "text": [
            "[ 0  , 1 ,  2,   3,   4,   5,  6 ]\n",
            "['G', 'G', 'G', '-', 'B', 'B', 'B']\n",
            "Press q to quit else \n",
            "Enter position of piece:4\n",
            "G\n",
            "- B\n",
            "['G', 'G', 'G', 'B', '-', 'B', 'B']\n",
            "Press q to quit else \n",
            "Enter position of piece:2\n",
            "G\n",
            "- G\n",
            "['G', 'G', '-', 'B', 'G', 'B', 'B']\n",
            "Press q to quit else \n",
            "Enter position of piece:1\n",
            "G\n",
            "- G\n",
            "['G', '-', 'G', 'B', 'G', 'B', 'B']\n",
            "Press q to quit else \n",
            "Enter position of piece:3\n",
            "G\n",
            "- B\n",
            "['G', 'B', 'G', '-', 'G', 'B', 'B']\n",
            "Press q to quit else \n",
            "Enter position of piece:6\n",
            "G\n",
            "Invalid Move\n",
            "Press q to quit else \n",
            "Enter position of piece:5\n",
            "G\n",
            "- B\n",
            "['G', 'B', 'G', 'B', 'G', '-', 'B']\n",
            "Press q to quit else \n",
            "Enter position of piece:6\n",
            "G\n",
            "- B\n",
            "['G', 'B', 'G', 'B', 'G', 'B', '-']\n",
            "Press q to quit else \n",
            "Enter position of piece:5\n",
            "G\n",
            "Invalid Move\n",
            "Press q to quit else \n",
            "Enter position of piece:4\n",
            "G\n",
            "- G\n",
            "['G', 'B', 'G', 'B', '-', 'B', 'G']\n",
            "Press q to quit else \n",
            "Enter position of piece:2\n",
            "G\n",
            "- G\n",
            "['G', 'B', '-', 'B', 'G', 'B', 'G']\n",
            "Press q to quit else \n",
            "Enter position of piece:0\n",
            "G\n",
            "- G\n",
            "['-', 'B', 'G', 'B', 'G', 'B', 'G']\n",
            "Press q to quit else \n",
            "Enter position of piece:1\n",
            "-\n",
            "- B\n",
            "['B', '-', 'G', 'B', 'G', 'B', 'G']\n",
            "Press q to quit else \n",
            "Enter position of piece:3\n",
            "B\n",
            "- B\n",
            "['B', 'B', 'G', '-', 'G', 'B', 'G']\n",
            "Press q to quit else \n",
            "Enter position of piece:5\n",
            "B\n",
            "- B\n",
            "['B', 'B', 'G', 'B', 'G', '-', 'G']\n",
            "Press q to quit else \n",
            "Enter position of piece:4\n",
            "B\n",
            "- G\n",
            "['B', 'B', 'G', 'B', '-', 'G', 'G']\n",
            "Press q to quit else \n",
            "Enter position of piece:2\n",
            "B\n",
            "- G\n",
            "['B', 'B', '-', 'B', 'G', 'G', 'G']\n",
            "Press q to quit else \n",
            "Enter position of piece:2\n",
            "Invalid Move\n",
            "Press q to quit else \n",
            "Enter position of piece:3\n",
            "B\n",
            "- B\n",
            "['B', 'B', 'B', '-', 'G', 'G', 'G']\n",
            "You Win\n"
          ]
        }
      ],
      "source": [
        "from IPython.display import clear_output\n",
        "\n",
        "positions=list(['G', 'G', 'G', '-', 'B', 'B', 'B'])\n",
        "print('[ 0  , 1 ,  2,   3,   4,   5,  6 ]')\n",
        "print(positions)\n",
        "while True:\n",
        "    pos=input(\"Press q to quit else \\nEnter position of piece:\")\n",
        "    if pos == 'q':\n",
        "      print(\"You Lose\")\n",
        "      break\n",
        "    else:\n",
        "      pos=int(pos)\n",
        "    if pos > 6 or pos < 0:\n",
        "      print(\"Invalid move\") #it should be between 0-6\n",
        "      continue\n",
        "    if positions[pos] == '-':\n",
        "     print(\"Invalid Move\")\n",
        "     continue\n",
        "    pos2 = positions[0]\n",
        "    print(pos2)\n",
        "    if positions[pos]=='G':\n",
        "       if (pos+1) <=6 and positions[pos+1] == '-':\n",
        "          pos2=pos+1\n",
        "       elif pos+2 <= 6 and positions[pos+2] == '-' and positions[pos+1] == 'B':\n",
        "            pos2=pos+2\n",
        "       else:\n",
        "         print(\"Invalid Move\")\n",
        "         print(pos2)\n",
        "         continue\n",
        "    elif positions[pos] == 'B':\n",
        "        if pos-1 >= 0 and positions[pos-1] == '-':\n",
        "           pos2=pos-1\n",
        "        elif pos-2 >=0 and positions[pos-2] == '-' and positions[pos-1] == 'G':\n",
        "            pos2=pos-2\n",
        "        else:\n",
        "           print(\"Invalid Move\")\n",
        "           continue\n",
        "    positions[pos],positions[pos2]=positions[pos2],positions[pos]\n",
        "    print(positions[pos],positions[pos2])\n",
        "    print(positions)\n",
        "    if positions == ['B', 'B', 'B', '-', 'G', 'G', 'G']:\n",
        "     print(\"You Win\")\n",
        "     break"
      ]
    },
    {
      "cell_type": "markdown",
      "source": [
        "The game is now functionally complete.\n",
        "Writing the entire code in a single loop without using functions can lead to several drawbacks, including reduced readability, code duplication, and a lack of modularization. So, now we will create functions , add comments and also printing some instructions for user's understanding.!"
      ],
      "metadata": {
        "id": "xgzSe0F6y6-O"
      }
    },
    {
      "cell_type": "code",
      "source": [
        "positions=list(['G', 'G', 'G', '-', 'B', 'B', 'B']) #Initialize a positions list\n",
        "print('[ 0  , 1 ,  2,   3,   4,   5,  6 ]')\n",
        "print(positions)\n",
        "print('The left set of frogs can only move right, the right set of frogs can only move left.\\nFrogs can move forward one space, or move two spaces by jumping over another frog from opposite side.\\nThe puzzle is solved when the two sets of frogs have switched positions.')\n",
        "print(\"Enter the number less than 7.(Between 0-6)\\n All the Best!\")\n",
        "\n",
        "def is_invalid_move(pos):\n",
        "  if pos > 6 or pos < 0:   #if number is not between 0-6 return True to print Invalid Move\n",
        "      return True\n",
        "  if positions[pos] == '-':  #if selected position is empty then an in valid move\n",
        "      return True\n",
        "  if positions[pos]=='G':  #if selected position is green frog\n",
        "    if (pos+1) <=6 and positions[pos+1] == '-':\n",
        "      return False\n",
        "    elif pos+2 <= 6 and positions[pos+2] == '-' and positions[pos+1] == 'B':\n",
        "       return False\n",
        "    else:\n",
        "      return True\n",
        "  elif positions[pos] == 'B': #if the selected frog is Brown\n",
        "    if pos-1 >= 0 and positions[pos-1] == '-':\n",
        "      return False\n",
        "    elif pos-2 >=0 and positions[pos-2] == '-' and positions[pos-1] == 'G':\n",
        "      return False\n",
        "    else:\n",
        "      return True\n",
        "\n",
        "def make_a_move(pos):\n",
        "  pos2=0\n",
        "  if positions[pos]=='G':\n",
        "    if (pos+1) <=6 and positions[pos+1] == '-':\n",
        "      pos2=(pos+1)\n",
        "    elif pos+2 <= 6 and positions[pos+2] == '-' and positions[pos+1] == 'B':\n",
        "      pos2=(pos+2)\n",
        "  elif positions[pos] == 'B':\n",
        "    if pos-1 >= 0 and positions[pos-1] == '-':\n",
        "      pos2=(pos-1)\n",
        "    elif pos-2 >=0 and positions[pos-2] == '-' and positions[pos-1] == 'G':\n",
        "      pos2=(pos-2)\n",
        "\n",
        "  positions[pos],positions[pos2]=positions[pos2],positions[pos]\n",
        "\n",
        "\n",
        "while(True):\n",
        "  pos=input(\"Press q to quit else \\nEnter position of piece:\") #taking the input from the user.\n",
        "  if pos == 'q':\n",
        "    print(\"You Lose\")\n",
        "    break    #exit the loop if user wish to quit\n",
        "  else:\n",
        "    pos=int(pos) #converting the entered input into integer\n",
        "  if is_invalid_move(pos):\n",
        "    print(\"Invalid Move\")\n",
        "    continue\n",
        "  else:\n",
        "    make_a_move(pos)\n",
        "  #clear_output\n",
        "  print(positions)\n",
        "  if positions == ['B', 'B', 'B', '-', 'G', 'G', 'G']:\n",
        "    print(\"You Win\")\n",
        "    break"
      ],
      "metadata": {
        "id": "DR548o19y4wd",
        "colab": {
          "base_uri": "https://localhost:8080/"
        },
        "outputId": "2d2eae14-e90d-4c7a-f9fd-eef1ac350119"
      },
      "execution_count": null,
      "outputs": [
        {
          "output_type": "stream",
          "name": "stdout",
          "text": [
            "[ 0  , 1 ,  2,   3,   4,   5,  6 ]\n",
            "['G', 'G', 'G', '-', 'B', 'B', 'B']\n",
            "The left set of frogs can only move right, the right set of frogs can only move left.\n",
            "Frogs can move forward one space, or move two spaces by jumping over another frog from opposite side.\n",
            "The puzzle is solved when the two sets of frogs have switched positions.\n",
            "Enter the number less than 7.(Between 0-6)\n",
            " All the Best!\n",
            "Press q to quit else \n",
            "Enter position of piece:4\n",
            "['G', 'G', 'G', 'B', '-', 'B', 'B']\n",
            "Press q to quit else \n",
            "Enter position of piece:2\n",
            "['G', 'G', '-', 'B', 'G', 'B', 'B']\n",
            "Press q to quit else \n",
            "Enter position of piece:1\n",
            "['G', '-', 'G', 'B', 'G', 'B', 'B']\n",
            "Press q to quit else \n",
            "Enter position of piece:3\n",
            "['G', 'B', 'G', '-', 'G', 'B', 'B']\n",
            "Press q to quit else \n",
            "Enter position of piece:5\n",
            "['G', 'B', 'G', 'B', 'G', '-', 'B']\n",
            "Press q to quit else \n",
            "Enter position of piece:6\n",
            "['G', 'B', 'G', 'B', 'G', 'B', '-']\n",
            "Press q to quit else \n",
            "Enter position of piece:4\n",
            "['G', 'B', 'G', 'B', '-', 'B', 'G']\n",
            "Press q to quit else \n",
            "Enter position of piece:2\n",
            "['G', 'B', '-', 'B', 'G', 'B', 'G']\n",
            "Press q to quit else \n",
            "Enter position of piece:0\n",
            "['-', 'B', 'G', 'B', 'G', 'B', 'G']\n",
            "Press q to quit else \n",
            "Enter position of piece:1\n",
            "['B', '-', 'G', 'B', 'G', 'B', 'G']\n",
            "Press q to quit else \n",
            "Enter position of piece:3\n",
            "['B', 'B', 'G', '-', 'G', 'B', 'G']\n",
            "Press q to quit else \n",
            "Enter position of piece:5\n",
            "['B', 'B', 'G', 'B', 'G', '-', 'G']\n",
            "Press q to quit else \n",
            "Enter position of piece:4\n",
            "['B', 'B', 'G', 'B', '-', 'G', 'G']\n",
            "Press q to quit else \n",
            "Enter position of piece:2\n",
            "['B', 'B', '-', 'B', 'G', 'G', 'G']\n",
            "Press q to quit else \n",
            "Enter position of piece:3\n",
            "['B', 'B', 'B', '-', 'G', 'G', 'G']\n",
            "You Win\n"
          ]
        }
      ]
    },
    {
      "cell_type": "code",
      "source": [
        "\n"
      ],
      "metadata": {
        "id": "WDlniAhI6nlv"
      },
      "execution_count": null,
      "outputs": []
    }
  ],
  "metadata": {
    "colab": {
      "provenance": []
    },
    "kernelspec": {
      "display_name": "Python 3",
      "name": "python3"
    },
    "language_info": {
      "name": "python"
    }
  },
  "nbformat": 4,
  "nbformat_minor": 0
}