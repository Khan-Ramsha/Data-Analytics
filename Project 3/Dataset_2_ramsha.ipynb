{
  "nbformat": 4,
  "nbformat_minor": 0,
  "metadata": {
    "colab": {
      "provenance": []
    },
    "kernelspec": {
      "name": "python3",
      "display_name": "Python 3"
    },
    "language_info": {
      "name": "python"
    }
  },
  "cells": [
    {
      "cell_type": "code",
      "source": [
        "import pandas as pd\n",
        "import numpy as np"
      ],
      "metadata": {
        "id": "3REofmRj4D-w"
      },
      "execution_count": 2,
      "outputs": []
    },
    {
      "cell_type": "code",
      "execution_count": 3,
      "metadata": {
        "id": "MFjeZW8Y3VlM"
      },
      "outputs": [],
      "source": [
        "df = pd.read_csv(\"/content/chipotle.tsv\",sep=\"\\t\")"
      ]
    },
    {
      "cell_type": "code",
      "source": [
        "df.head()"
      ],
      "metadata": {
        "colab": {
          "base_uri": "https://localhost:8080/",
          "height": 206
        },
        "id": "8rs5YfWB4B54",
        "outputId": "eccecbee-e6a6-4590-d8f1-3e04579d6a2e"
      },
      "execution_count": 4,
      "outputs": [
        {
          "output_type": "execute_result",
          "data": {
            "text/plain": [
              "   order_id  quantity                              item_name  \\\n",
              "0         1         1           Chips and Fresh Tomato Salsa   \n",
              "1         1         1                                   Izze   \n",
              "2         1         1                       Nantucket Nectar   \n",
              "3         1         1  Chips and Tomatillo-Green Chili Salsa   \n",
              "4         2         2                           Chicken Bowl   \n",
              "\n",
              "                                  choice_description item_price  \n",
              "0                                                NaN     $2.39   \n",
              "1                                       [Clementine]     $3.39   \n",
              "2                                            [Apple]     $3.39   \n",
              "3                                                NaN     $2.39   \n",
              "4  [Tomatillo-Red Chili Salsa (Hot), [Black Beans...    $16.98   "
            ],
            "text/html": [
              "\n",
              "  <div id=\"df-5ca2ebba-63e6-4214-ac2c-98d94d781e3e\" class=\"colab-df-container\">\n",
              "    <div>\n",
              "<style scoped>\n",
              "    .dataframe tbody tr th:only-of-type {\n",
              "        vertical-align: middle;\n",
              "    }\n",
              "\n",
              "    .dataframe tbody tr th {\n",
              "        vertical-align: top;\n",
              "    }\n",
              "\n",
              "    .dataframe thead th {\n",
              "        text-align: right;\n",
              "    }\n",
              "</style>\n",
              "<table border=\"1\" class=\"dataframe\">\n",
              "  <thead>\n",
              "    <tr style=\"text-align: right;\">\n",
              "      <th></th>\n",
              "      <th>order_id</th>\n",
              "      <th>quantity</th>\n",
              "      <th>item_name</th>\n",
              "      <th>choice_description</th>\n",
              "      <th>item_price</th>\n",
              "    </tr>\n",
              "  </thead>\n",
              "  <tbody>\n",
              "    <tr>\n",
              "      <th>0</th>\n",
              "      <td>1</td>\n",
              "      <td>1</td>\n",
              "      <td>Chips and Fresh Tomato Salsa</td>\n",
              "      <td>NaN</td>\n",
              "      <td>$2.39</td>\n",
              "    </tr>\n",
              "    <tr>\n",
              "      <th>1</th>\n",
              "      <td>1</td>\n",
              "      <td>1</td>\n",
              "      <td>Izze</td>\n",
              "      <td>[Clementine]</td>\n",
              "      <td>$3.39</td>\n",
              "    </tr>\n",
              "    <tr>\n",
              "      <th>2</th>\n",
              "      <td>1</td>\n",
              "      <td>1</td>\n",
              "      <td>Nantucket Nectar</td>\n",
              "      <td>[Apple]</td>\n",
              "      <td>$3.39</td>\n",
              "    </tr>\n",
              "    <tr>\n",
              "      <th>3</th>\n",
              "      <td>1</td>\n",
              "      <td>1</td>\n",
              "      <td>Chips and Tomatillo-Green Chili Salsa</td>\n",
              "      <td>NaN</td>\n",
              "      <td>$2.39</td>\n",
              "    </tr>\n",
              "    <tr>\n",
              "      <th>4</th>\n",
              "      <td>2</td>\n",
              "      <td>2</td>\n",
              "      <td>Chicken Bowl</td>\n",
              "      <td>[Tomatillo-Red Chili Salsa (Hot), [Black Beans...</td>\n",
              "      <td>$16.98</td>\n",
              "    </tr>\n",
              "  </tbody>\n",
              "</table>\n",
              "</div>\n",
              "    <div class=\"colab-df-buttons\">\n",
              "\n",
              "  <div class=\"colab-df-container\">\n",
              "    <button class=\"colab-df-convert\" onclick=\"convertToInteractive('df-5ca2ebba-63e6-4214-ac2c-98d94d781e3e')\"\n",
              "            title=\"Convert this dataframe to an interactive table.\"\n",
              "            style=\"display:none;\">\n",
              "\n",
              "  <svg xmlns=\"http://www.w3.org/2000/svg\" height=\"24px\" viewBox=\"0 -960 960 960\">\n",
              "    <path d=\"M120-120v-720h720v720H120Zm60-500h600v-160H180v160Zm220 220h160v-160H400v160Zm0 220h160v-160H400v160ZM180-400h160v-160H180v160Zm440 0h160v-160H620v160ZM180-180h160v-160H180v160Zm440 0h160v-160H620v160Z\"/>\n",
              "  </svg>\n",
              "    </button>\n",
              "\n",
              "  <style>\n",
              "    .colab-df-container {\n",
              "      display:flex;\n",
              "      gap: 12px;\n",
              "    }\n",
              "\n",
              "    .colab-df-convert {\n",
              "      background-color: #E8F0FE;\n",
              "      border: none;\n",
              "      border-radius: 50%;\n",
              "      cursor: pointer;\n",
              "      display: none;\n",
              "      fill: #1967D2;\n",
              "      height: 32px;\n",
              "      padding: 0 0 0 0;\n",
              "      width: 32px;\n",
              "    }\n",
              "\n",
              "    .colab-df-convert:hover {\n",
              "      background-color: #E2EBFA;\n",
              "      box-shadow: 0px 1px 2px rgba(60, 64, 67, 0.3), 0px 1px 3px 1px rgba(60, 64, 67, 0.15);\n",
              "      fill: #174EA6;\n",
              "    }\n",
              "\n",
              "    .colab-df-buttons div {\n",
              "      margin-bottom: 4px;\n",
              "    }\n",
              "\n",
              "    [theme=dark] .colab-df-convert {\n",
              "      background-color: #3B4455;\n",
              "      fill: #D2E3FC;\n",
              "    }\n",
              "\n",
              "    [theme=dark] .colab-df-convert:hover {\n",
              "      background-color: #434B5C;\n",
              "      box-shadow: 0px 1px 3px 1px rgba(0, 0, 0, 0.15);\n",
              "      filter: drop-shadow(0px 1px 2px rgba(0, 0, 0, 0.3));\n",
              "      fill: #FFFFFF;\n",
              "    }\n",
              "  </style>\n",
              "\n",
              "    <script>\n",
              "      const buttonEl =\n",
              "        document.querySelector('#df-5ca2ebba-63e6-4214-ac2c-98d94d781e3e button.colab-df-convert');\n",
              "      buttonEl.style.display =\n",
              "        google.colab.kernel.accessAllowed ? 'block' : 'none';\n",
              "\n",
              "      async function convertToInteractive(key) {\n",
              "        const element = document.querySelector('#df-5ca2ebba-63e6-4214-ac2c-98d94d781e3e');\n",
              "        const dataTable =\n",
              "          await google.colab.kernel.invokeFunction('convertToInteractive',\n",
              "                                                    [key], {});\n",
              "        if (!dataTable) return;\n",
              "\n",
              "        const docLinkHtml = 'Like what you see? Visit the ' +\n",
              "          '<a target=\"_blank\" href=https://colab.research.google.com/notebooks/data_table.ipynb>data table notebook</a>'\n",
              "          + ' to learn more about interactive tables.';\n",
              "        element.innerHTML = '';\n",
              "        dataTable['output_type'] = 'display_data';\n",
              "        await google.colab.output.renderOutput(dataTable, element);\n",
              "        const docLink = document.createElement('div');\n",
              "        docLink.innerHTML = docLinkHtml;\n",
              "        element.appendChild(docLink);\n",
              "      }\n",
              "    </script>\n",
              "  </div>\n",
              "\n",
              "\n",
              "<div id=\"df-acd4dfcf-1039-4fbc-9206-8ad8a3ed86c1\">\n",
              "  <button class=\"colab-df-quickchart\" onclick=\"quickchart('df-acd4dfcf-1039-4fbc-9206-8ad8a3ed86c1')\"\n",
              "            title=\"Suggest charts\"\n",
              "            style=\"display:none;\">\n",
              "\n",
              "<svg xmlns=\"http://www.w3.org/2000/svg\" height=\"24px\"viewBox=\"0 0 24 24\"\n",
              "     width=\"24px\">\n",
              "    <g>\n",
              "        <path d=\"M19 3H5c-1.1 0-2 .9-2 2v14c0 1.1.9 2 2 2h14c1.1 0 2-.9 2-2V5c0-1.1-.9-2-2-2zM9 17H7v-7h2v7zm4 0h-2V7h2v10zm4 0h-2v-4h2v4z\"/>\n",
              "    </g>\n",
              "</svg>\n",
              "  </button>\n",
              "\n",
              "<style>\n",
              "  .colab-df-quickchart {\n",
              "      --bg-color: #E8F0FE;\n",
              "      --fill-color: #1967D2;\n",
              "      --hover-bg-color: #E2EBFA;\n",
              "      --hover-fill-color: #174EA6;\n",
              "      --disabled-fill-color: #AAA;\n",
              "      --disabled-bg-color: #DDD;\n",
              "  }\n",
              "\n",
              "  [theme=dark] .colab-df-quickchart {\n",
              "      --bg-color: #3B4455;\n",
              "      --fill-color: #D2E3FC;\n",
              "      --hover-bg-color: #434B5C;\n",
              "      --hover-fill-color: #FFFFFF;\n",
              "      --disabled-bg-color: #3B4455;\n",
              "      --disabled-fill-color: #666;\n",
              "  }\n",
              "\n",
              "  .colab-df-quickchart {\n",
              "    background-color: var(--bg-color);\n",
              "    border: none;\n",
              "    border-radius: 50%;\n",
              "    cursor: pointer;\n",
              "    display: none;\n",
              "    fill: var(--fill-color);\n",
              "    height: 32px;\n",
              "    padding: 0;\n",
              "    width: 32px;\n",
              "  }\n",
              "\n",
              "  .colab-df-quickchart:hover {\n",
              "    background-color: var(--hover-bg-color);\n",
              "    box-shadow: 0 1px 2px rgba(60, 64, 67, 0.3), 0 1px 3px 1px rgba(60, 64, 67, 0.15);\n",
              "    fill: var(--button-hover-fill-color);\n",
              "  }\n",
              "\n",
              "  .colab-df-quickchart-complete:disabled,\n",
              "  .colab-df-quickchart-complete:disabled:hover {\n",
              "    background-color: var(--disabled-bg-color);\n",
              "    fill: var(--disabled-fill-color);\n",
              "    box-shadow: none;\n",
              "  }\n",
              "\n",
              "  .colab-df-spinner {\n",
              "    border: 2px solid var(--fill-color);\n",
              "    border-color: transparent;\n",
              "    border-bottom-color: var(--fill-color);\n",
              "    animation:\n",
              "      spin 1s steps(1) infinite;\n",
              "  }\n",
              "\n",
              "  @keyframes spin {\n",
              "    0% {\n",
              "      border-color: transparent;\n",
              "      border-bottom-color: var(--fill-color);\n",
              "      border-left-color: var(--fill-color);\n",
              "    }\n",
              "    20% {\n",
              "      border-color: transparent;\n",
              "      border-left-color: var(--fill-color);\n",
              "      border-top-color: var(--fill-color);\n",
              "    }\n",
              "    30% {\n",
              "      border-color: transparent;\n",
              "      border-left-color: var(--fill-color);\n",
              "      border-top-color: var(--fill-color);\n",
              "      border-right-color: var(--fill-color);\n",
              "    }\n",
              "    40% {\n",
              "      border-color: transparent;\n",
              "      border-right-color: var(--fill-color);\n",
              "      border-top-color: var(--fill-color);\n",
              "    }\n",
              "    60% {\n",
              "      border-color: transparent;\n",
              "      border-right-color: var(--fill-color);\n",
              "    }\n",
              "    80% {\n",
              "      border-color: transparent;\n",
              "      border-right-color: var(--fill-color);\n",
              "      border-bottom-color: var(--fill-color);\n",
              "    }\n",
              "    90% {\n",
              "      border-color: transparent;\n",
              "      border-bottom-color: var(--fill-color);\n",
              "    }\n",
              "  }\n",
              "</style>\n",
              "\n",
              "  <script>\n",
              "    async function quickchart(key) {\n",
              "      const quickchartButtonEl =\n",
              "        document.querySelector('#' + key + ' button');\n",
              "      quickchartButtonEl.disabled = true;  // To prevent multiple clicks.\n",
              "      quickchartButtonEl.classList.add('colab-df-spinner');\n",
              "      try {\n",
              "        const charts = await google.colab.kernel.invokeFunction(\n",
              "            'suggestCharts', [key], {});\n",
              "      } catch (error) {\n",
              "        console.error('Error during call to suggestCharts:', error);\n",
              "      }\n",
              "      quickchartButtonEl.classList.remove('colab-df-spinner');\n",
              "      quickchartButtonEl.classList.add('colab-df-quickchart-complete');\n",
              "    }\n",
              "    (() => {\n",
              "      let quickchartButtonEl =\n",
              "        document.querySelector('#df-acd4dfcf-1039-4fbc-9206-8ad8a3ed86c1 button');\n",
              "      quickchartButtonEl.style.display =\n",
              "        google.colab.kernel.accessAllowed ? 'block' : 'none';\n",
              "    })();\n",
              "  </script>\n",
              "</div>\n",
              "\n",
              "    </div>\n",
              "  </div>\n"
            ]
          },
          "metadata": {},
          "execution_count": 4
        }
      ]
    },
    {
      "cell_type": "markdown",
      "source": [
        "1. **Missing Values**:\n",
        "Question: Check for missing values in each column (Order ID, Quantity, Item Name, Choice Description, Item Price). How should missing values be handled?\n"
      ],
      "metadata": {
        "id": "raffD8F84XjP"
      }
    },
    {
      "cell_type": "code",
      "source": [
        "df.isnull().sum()"
      ],
      "metadata": {
        "colab": {
          "base_uri": "https://localhost:8080/"
        },
        "id": "Uhvw6E2Z4Rc5",
        "outputId": "67ce3e96-363a-4eb7-a918-8051a181b1db"
      },
      "execution_count": 5,
      "outputs": [
        {
          "output_type": "execute_result",
          "data": {
            "text/plain": [
              "order_id                 0\n",
              "quantity                 0\n",
              "item_name                0\n",
              "choice_description    1246\n",
              "item_price               0\n",
              "dtype: int64"
            ]
          },
          "metadata": {},
          "execution_count": 5
        }
      ]
    },
    {
      "cell_type": "markdown",
      "source": [
        "Above we see that only choice description column contains missing values"
      ],
      "metadata": {
        "id": "Zb7DoGT44ePC"
      }
    },
    {
      "cell_type": "code",
      "source": [
        "df[\"choice_description\"] = df[\"choice_description\"].fillna(\"No description Available\")"
      ],
      "metadata": {
        "id": "-7fXW3xW4b0B"
      },
      "execution_count": 6,
      "outputs": []
    },
    {
      "cell_type": "code",
      "source": [
        "df.isnull().sum()"
      ],
      "metadata": {
        "colab": {
          "base_uri": "https://localhost:8080/"
        },
        "id": "WOMZ3Wwr47u8",
        "outputId": "e39ddb83-9761-4d7a-a58d-7e5c02e6e0fb"
      },
      "execution_count": 7,
      "outputs": [
        {
          "output_type": "execute_result",
          "data": {
            "text/plain": [
              "order_id              0\n",
              "quantity              0\n",
              "item_name             0\n",
              "choice_description    0\n",
              "item_price            0\n",
              "dtype: int64"
            ]
          },
          "metadata": {},
          "execution_count": 7
        }
      ]
    },
    {
      "cell_type": "code",
      "source": [
        "df.head()"
      ],
      "metadata": {
        "colab": {
          "base_uri": "https://localhost:8080/",
          "height": 206
        },
        "id": "rVz-CJXd495h",
        "outputId": "06e022c1-ce09-4433-b438-6f7a6336f032"
      },
      "execution_count": 8,
      "outputs": [
        {
          "output_type": "execute_result",
          "data": {
            "text/plain": [
              "   order_id  quantity                              item_name  \\\n",
              "0         1         1           Chips and Fresh Tomato Salsa   \n",
              "1         1         1                                   Izze   \n",
              "2         1         1                       Nantucket Nectar   \n",
              "3         1         1  Chips and Tomatillo-Green Chili Salsa   \n",
              "4         2         2                           Chicken Bowl   \n",
              "\n",
              "                                  choice_description item_price  \n",
              "0                           No description Available     $2.39   \n",
              "1                                       [Clementine]     $3.39   \n",
              "2                                            [Apple]     $3.39   \n",
              "3                           No description Available     $2.39   \n",
              "4  [Tomatillo-Red Chili Salsa (Hot), [Black Beans...    $16.98   "
            ],
            "text/html": [
              "\n",
              "  <div id=\"df-87613c1e-4911-4bdc-89ca-98b6f11c8e00\" class=\"colab-df-container\">\n",
              "    <div>\n",
              "<style scoped>\n",
              "    .dataframe tbody tr th:only-of-type {\n",
              "        vertical-align: middle;\n",
              "    }\n",
              "\n",
              "    .dataframe tbody tr th {\n",
              "        vertical-align: top;\n",
              "    }\n",
              "\n",
              "    .dataframe thead th {\n",
              "        text-align: right;\n",
              "    }\n",
              "</style>\n",
              "<table border=\"1\" class=\"dataframe\">\n",
              "  <thead>\n",
              "    <tr style=\"text-align: right;\">\n",
              "      <th></th>\n",
              "      <th>order_id</th>\n",
              "      <th>quantity</th>\n",
              "      <th>item_name</th>\n",
              "      <th>choice_description</th>\n",
              "      <th>item_price</th>\n",
              "    </tr>\n",
              "  </thead>\n",
              "  <tbody>\n",
              "    <tr>\n",
              "      <th>0</th>\n",
              "      <td>1</td>\n",
              "      <td>1</td>\n",
              "      <td>Chips and Fresh Tomato Salsa</td>\n",
              "      <td>No description Available</td>\n",
              "      <td>$2.39</td>\n",
              "    </tr>\n",
              "    <tr>\n",
              "      <th>1</th>\n",
              "      <td>1</td>\n",
              "      <td>1</td>\n",
              "      <td>Izze</td>\n",
              "      <td>[Clementine]</td>\n",
              "      <td>$3.39</td>\n",
              "    </tr>\n",
              "    <tr>\n",
              "      <th>2</th>\n",
              "      <td>1</td>\n",
              "      <td>1</td>\n",
              "      <td>Nantucket Nectar</td>\n",
              "      <td>[Apple]</td>\n",
              "      <td>$3.39</td>\n",
              "    </tr>\n",
              "    <tr>\n",
              "      <th>3</th>\n",
              "      <td>1</td>\n",
              "      <td>1</td>\n",
              "      <td>Chips and Tomatillo-Green Chili Salsa</td>\n",
              "      <td>No description Available</td>\n",
              "      <td>$2.39</td>\n",
              "    </tr>\n",
              "    <tr>\n",
              "      <th>4</th>\n",
              "      <td>2</td>\n",
              "      <td>2</td>\n",
              "      <td>Chicken Bowl</td>\n",
              "      <td>[Tomatillo-Red Chili Salsa (Hot), [Black Beans...</td>\n",
              "      <td>$16.98</td>\n",
              "    </tr>\n",
              "  </tbody>\n",
              "</table>\n",
              "</div>\n",
              "    <div class=\"colab-df-buttons\">\n",
              "\n",
              "  <div class=\"colab-df-container\">\n",
              "    <button class=\"colab-df-convert\" onclick=\"convertToInteractive('df-87613c1e-4911-4bdc-89ca-98b6f11c8e00')\"\n",
              "            title=\"Convert this dataframe to an interactive table.\"\n",
              "            style=\"display:none;\">\n",
              "\n",
              "  <svg xmlns=\"http://www.w3.org/2000/svg\" height=\"24px\" viewBox=\"0 -960 960 960\">\n",
              "    <path d=\"M120-120v-720h720v720H120Zm60-500h600v-160H180v160Zm220 220h160v-160H400v160Zm0 220h160v-160H400v160ZM180-400h160v-160H180v160Zm440 0h160v-160H620v160ZM180-180h160v-160H180v160Zm440 0h160v-160H620v160Z\"/>\n",
              "  </svg>\n",
              "    </button>\n",
              "\n",
              "  <style>\n",
              "    .colab-df-container {\n",
              "      display:flex;\n",
              "      gap: 12px;\n",
              "    }\n",
              "\n",
              "    .colab-df-convert {\n",
              "      background-color: #E8F0FE;\n",
              "      border: none;\n",
              "      border-radius: 50%;\n",
              "      cursor: pointer;\n",
              "      display: none;\n",
              "      fill: #1967D2;\n",
              "      height: 32px;\n",
              "      padding: 0 0 0 0;\n",
              "      width: 32px;\n",
              "    }\n",
              "\n",
              "    .colab-df-convert:hover {\n",
              "      background-color: #E2EBFA;\n",
              "      box-shadow: 0px 1px 2px rgba(60, 64, 67, 0.3), 0px 1px 3px 1px rgba(60, 64, 67, 0.15);\n",
              "      fill: #174EA6;\n",
              "    }\n",
              "\n",
              "    .colab-df-buttons div {\n",
              "      margin-bottom: 4px;\n",
              "    }\n",
              "\n",
              "    [theme=dark] .colab-df-convert {\n",
              "      background-color: #3B4455;\n",
              "      fill: #D2E3FC;\n",
              "    }\n",
              "\n",
              "    [theme=dark] .colab-df-convert:hover {\n",
              "      background-color: #434B5C;\n",
              "      box-shadow: 0px 1px 3px 1px rgba(0, 0, 0, 0.15);\n",
              "      filter: drop-shadow(0px 1px 2px rgba(0, 0, 0, 0.3));\n",
              "      fill: #FFFFFF;\n",
              "    }\n",
              "  </style>\n",
              "\n",
              "    <script>\n",
              "      const buttonEl =\n",
              "        document.querySelector('#df-87613c1e-4911-4bdc-89ca-98b6f11c8e00 button.colab-df-convert');\n",
              "      buttonEl.style.display =\n",
              "        google.colab.kernel.accessAllowed ? 'block' : 'none';\n",
              "\n",
              "      async function convertToInteractive(key) {\n",
              "        const element = document.querySelector('#df-87613c1e-4911-4bdc-89ca-98b6f11c8e00');\n",
              "        const dataTable =\n",
              "          await google.colab.kernel.invokeFunction('convertToInteractive',\n",
              "                                                    [key], {});\n",
              "        if (!dataTable) return;\n",
              "\n",
              "        const docLinkHtml = 'Like what you see? Visit the ' +\n",
              "          '<a target=\"_blank\" href=https://colab.research.google.com/notebooks/data_table.ipynb>data table notebook</a>'\n",
              "          + ' to learn more about interactive tables.';\n",
              "        element.innerHTML = '';\n",
              "        dataTable['output_type'] = 'display_data';\n",
              "        await google.colab.output.renderOutput(dataTable, element);\n",
              "        const docLink = document.createElement('div');\n",
              "        docLink.innerHTML = docLinkHtml;\n",
              "        element.appendChild(docLink);\n",
              "      }\n",
              "    </script>\n",
              "  </div>\n",
              "\n",
              "\n",
              "<div id=\"df-a75e9e31-ed65-4437-b0e6-f0e92008d429\">\n",
              "  <button class=\"colab-df-quickchart\" onclick=\"quickchart('df-a75e9e31-ed65-4437-b0e6-f0e92008d429')\"\n",
              "            title=\"Suggest charts\"\n",
              "            style=\"display:none;\">\n",
              "\n",
              "<svg xmlns=\"http://www.w3.org/2000/svg\" height=\"24px\"viewBox=\"0 0 24 24\"\n",
              "     width=\"24px\">\n",
              "    <g>\n",
              "        <path d=\"M19 3H5c-1.1 0-2 .9-2 2v14c0 1.1.9 2 2 2h14c1.1 0 2-.9 2-2V5c0-1.1-.9-2-2-2zM9 17H7v-7h2v7zm4 0h-2V7h2v10zm4 0h-2v-4h2v4z\"/>\n",
              "    </g>\n",
              "</svg>\n",
              "  </button>\n",
              "\n",
              "<style>\n",
              "  .colab-df-quickchart {\n",
              "      --bg-color: #E8F0FE;\n",
              "      --fill-color: #1967D2;\n",
              "      --hover-bg-color: #E2EBFA;\n",
              "      --hover-fill-color: #174EA6;\n",
              "      --disabled-fill-color: #AAA;\n",
              "      --disabled-bg-color: #DDD;\n",
              "  }\n",
              "\n",
              "  [theme=dark] .colab-df-quickchart {\n",
              "      --bg-color: #3B4455;\n",
              "      --fill-color: #D2E3FC;\n",
              "      --hover-bg-color: #434B5C;\n",
              "      --hover-fill-color: #FFFFFF;\n",
              "      --disabled-bg-color: #3B4455;\n",
              "      --disabled-fill-color: #666;\n",
              "  }\n",
              "\n",
              "  .colab-df-quickchart {\n",
              "    background-color: var(--bg-color);\n",
              "    border: none;\n",
              "    border-radius: 50%;\n",
              "    cursor: pointer;\n",
              "    display: none;\n",
              "    fill: var(--fill-color);\n",
              "    height: 32px;\n",
              "    padding: 0;\n",
              "    width: 32px;\n",
              "  }\n",
              "\n",
              "  .colab-df-quickchart:hover {\n",
              "    background-color: var(--hover-bg-color);\n",
              "    box-shadow: 0 1px 2px rgba(60, 64, 67, 0.3), 0 1px 3px 1px rgba(60, 64, 67, 0.15);\n",
              "    fill: var(--button-hover-fill-color);\n",
              "  }\n",
              "\n",
              "  .colab-df-quickchart-complete:disabled,\n",
              "  .colab-df-quickchart-complete:disabled:hover {\n",
              "    background-color: var(--disabled-bg-color);\n",
              "    fill: var(--disabled-fill-color);\n",
              "    box-shadow: none;\n",
              "  }\n",
              "\n",
              "  .colab-df-spinner {\n",
              "    border: 2px solid var(--fill-color);\n",
              "    border-color: transparent;\n",
              "    border-bottom-color: var(--fill-color);\n",
              "    animation:\n",
              "      spin 1s steps(1) infinite;\n",
              "  }\n",
              "\n",
              "  @keyframes spin {\n",
              "    0% {\n",
              "      border-color: transparent;\n",
              "      border-bottom-color: var(--fill-color);\n",
              "      border-left-color: var(--fill-color);\n",
              "    }\n",
              "    20% {\n",
              "      border-color: transparent;\n",
              "      border-left-color: var(--fill-color);\n",
              "      border-top-color: var(--fill-color);\n",
              "    }\n",
              "    30% {\n",
              "      border-color: transparent;\n",
              "      border-left-color: var(--fill-color);\n",
              "      border-top-color: var(--fill-color);\n",
              "      border-right-color: var(--fill-color);\n",
              "    }\n",
              "    40% {\n",
              "      border-color: transparent;\n",
              "      border-right-color: var(--fill-color);\n",
              "      border-top-color: var(--fill-color);\n",
              "    }\n",
              "    60% {\n",
              "      border-color: transparent;\n",
              "      border-right-color: var(--fill-color);\n",
              "    }\n",
              "    80% {\n",
              "      border-color: transparent;\n",
              "      border-right-color: var(--fill-color);\n",
              "      border-bottom-color: var(--fill-color);\n",
              "    }\n",
              "    90% {\n",
              "      border-color: transparent;\n",
              "      border-bottom-color: var(--fill-color);\n",
              "    }\n",
              "  }\n",
              "</style>\n",
              "\n",
              "  <script>\n",
              "    async function quickchart(key) {\n",
              "      const quickchartButtonEl =\n",
              "        document.querySelector('#' + key + ' button');\n",
              "      quickchartButtonEl.disabled = true;  // To prevent multiple clicks.\n",
              "      quickchartButtonEl.classList.add('colab-df-spinner');\n",
              "      try {\n",
              "        const charts = await google.colab.kernel.invokeFunction(\n",
              "            'suggestCharts', [key], {});\n",
              "      } catch (error) {\n",
              "        console.error('Error during call to suggestCharts:', error);\n",
              "      }\n",
              "      quickchartButtonEl.classList.remove('colab-df-spinner');\n",
              "      quickchartButtonEl.classList.add('colab-df-quickchart-complete');\n",
              "    }\n",
              "    (() => {\n",
              "      let quickchartButtonEl =\n",
              "        document.querySelector('#df-a75e9e31-ed65-4437-b0e6-f0e92008d429 button');\n",
              "      quickchartButtonEl.style.display =\n",
              "        google.colab.kernel.accessAllowed ? 'block' : 'none';\n",
              "    })();\n",
              "  </script>\n",
              "</div>\n",
              "\n",
              "    </div>\n",
              "  </div>\n"
            ]
          },
          "metadata": {},
          "execution_count": 8
        }
      ]
    },
    {
      "cell_type": "markdown",
      "source": [
        "2. **Data Types**:\n",
        "Question: Verify the data types of each column. Do they align with their expected types, and should any adjustments be made?\n"
      ],
      "metadata": {
        "id": "XX5b3qUs5JBq"
      }
    },
    {
      "cell_type": "code",
      "source": [
        "df.dtypes"
      ],
      "metadata": {
        "colab": {
          "base_uri": "https://localhost:8080/"
        },
        "id": "mv983EgB5BLi",
        "outputId": "e60ae913-cca3-4a71-ed45-2080da71d20b"
      },
      "execution_count": 9,
      "outputs": [
        {
          "output_type": "execute_result",
          "data": {
            "text/plain": [
              "order_id               int64\n",
              "quantity               int64\n",
              "item_name             object\n",
              "choice_description    object\n",
              "item_price            object\n",
              "dtype: object"
            ]
          },
          "metadata": {},
          "execution_count": 9
        }
      ]
    },
    {
      "cell_type": "code",
      "source": [
        "df.info()"
      ],
      "metadata": {
        "colab": {
          "base_uri": "https://localhost:8080/"
        },
        "id": "yyfbaFlo6kr8",
        "outputId": "9026be5d-1f65-4666-b4ce-ee21e8555bd6"
      },
      "execution_count": 10,
      "outputs": [
        {
          "output_type": "stream",
          "name": "stdout",
          "text": [
            "<class 'pandas.core.frame.DataFrame'>\n",
            "RangeIndex: 4622 entries, 0 to 4621\n",
            "Data columns (total 5 columns):\n",
            " #   Column              Non-Null Count  Dtype \n",
            "---  ------              --------------  ----- \n",
            " 0   order_id            4622 non-null   int64 \n",
            " 1   quantity            4622 non-null   int64 \n",
            " 2   item_name           4622 non-null   object\n",
            " 3   choice_description  4622 non-null   object\n",
            " 4   item_price          4622 non-null   object\n",
            "dtypes: int64(2), object(3)\n",
            "memory usage: 180.7+ KB\n"
          ]
        }
      ]
    },
    {
      "cell_type": "markdown",
      "source": [
        "from above we observe that item_price is of object datatype and it should be of integer datatype"
      ],
      "metadata": {
        "id": "djO4YlFr7yJD"
      }
    },
    {
      "cell_type": "markdown",
      "source": [
        "3. **Duplicated Entries:**\n",
        "Question: Identify and handle duplicated entries in the dataset. How might duplicates impact analysis, and what is the appropriate action?\n"
      ],
      "metadata": {
        "id": "nJkJQfeR8Qjr"
      }
    },
    {
      "cell_type": "code",
      "source": [
        "df.duplicated().value_counts()"
      ],
      "metadata": {
        "colab": {
          "base_uri": "https://localhost:8080/"
        },
        "id": "Z_CeDhnY7U21",
        "outputId": "65541142-4e4c-4361-ac31-e5c7afe315bf"
      },
      "execution_count": 14,
      "outputs": [
        {
          "output_type": "execute_result",
          "data": {
            "text/plain": [
              "False    4563\n",
              "True       59\n",
              "dtype: int64"
            ]
          },
          "metadata": {},
          "execution_count": 14
        }
      ]
    },
    {
      "cell_type": "markdown",
      "source": [
        "there are 59 duplicate rows"
      ],
      "metadata": {
        "id": "H5ig5qT981S_"
      }
    },
    {
      "cell_type": "code",
      "source": [
        "df.duplicated().sum()"
      ],
      "metadata": {
        "colab": {
          "base_uri": "https://localhost:8080/"
        },
        "id": "rWtya2-T8aPQ",
        "outputId": "6b8b3a95-7efc-4a51-f4de-e09d3c80747a"
      },
      "execution_count": 17,
      "outputs": [
        {
          "output_type": "execute_result",
          "data": {
            "text/plain": [
              "59"
            ]
          },
          "metadata": {},
          "execution_count": 17
        }
      ]
    },
    {
      "cell_type": "code",
      "source": [
        "duplicates=df[df.duplicated()]"
      ],
      "metadata": {
        "id": "91VgtK-r896w"
      },
      "execution_count": 19,
      "outputs": []
    },
    {
      "cell_type": "code",
      "source": [
        "duplicates"
      ],
      "metadata": {
        "colab": {
          "base_uri": "https://localhost:8080/",
          "height": 1000
        },
        "id": "PCNxZ6ch9SWC",
        "outputId": "f3123d18-3982-4f61-e663-3683f68ff743"
      },
      "execution_count": 24,
      "outputs": [
        {
          "output_type": "execute_result",
          "data": {
            "text/plain": [
              "      order_id  quantity                            item_name  \\\n",
              "238        103         1                        Steak Burrito   \n",
              "248        108         1                          Canned Soda   \n",
              "297        129         1                        Steak Burrito   \n",
              "381        165         1                    Canned Soft Drink   \n",
              "484        205         1                         Chicken Bowl   \n",
              "567        233         1                    Canned Soft Drink   \n",
              "617        254         1                                Chips   \n",
              "684        282         1                    Canned Soft Drink   \n",
              "773        319         1                         Chicken Bowl   \n",
              "908        376         1                        Steak Burrito   \n",
              "924        381         1                   Chicken Soft Tacos   \n",
              "1003       412         1                        Bottled Water   \n",
              "1117       462         1                      Chicken Burrito   \n",
              "1203       491         1                      Chicken Burrito   \n",
              "1245       507         1                    Canned Soft Drink   \n",
              "1381       561         1                    Canned Soft Drink   \n",
              "1410       573         1                        Bottled Water   \n",
              "1420       576         1                        Barbacoa Bowl   \n",
              "1421       576         1                  Barbacoa Salad Bowl   \n",
              "1502       610         1                      Chicken Burrito   \n",
              "1534       624         1  Chips and Tomatillo-Red Chili Salsa   \n",
              "1548       628         1                  Chips and Guacamole   \n",
              "1612       651         1                                 Izze   \n",
              "1791       724         1                    Canned Soft Drink   \n",
              "1792       724         1                    Canned Soft Drink   \n",
              "2078       838         1                   Chicken Soft Tacos   \n",
              "2127       856         1                      Chicken Burrito   \n",
              "2307       926         1                         Chicken Bowl   \n",
              "2318       926         1                         Chicken Bowl   \n",
              "2362       940         1                    Canned Soft Drink   \n",
              "2448       972         1                         Chicken Bowl   \n",
              "2553      1011         1                    Canned Soft Drink   \n",
              "2554      1011         1                    Canned Soft Drink   \n",
              "2560      1013         1                  Chips and Guacamole   \n",
              "2576      1020         1  Chips and Tomatillo Red Chili Salsa   \n",
              "2662      1057         1                   Chicken Soft Tacos   \n",
              "2708      1074         1                                Chips   \n",
              "2717      1078         1                         Chicken Bowl   \n",
              "2833      1125         1                      Chicken Burrito   \n",
              "2881      1144         1                        Bottled Water   \n",
              "2973      1182         1                         Chicken Bowl   \n",
              "2977      1184         1                           Steak Bowl   \n",
              "3121      1244         1                  Chips and Guacamole   \n",
              "3430      1377         1  Chips and Tomatillo Red Chili Salsa   \n",
              "3637      1454         1                   Chicken Soft Tacos   \n",
              "3716      1484         1                          Canned Soda   \n",
              "3764      1507         1                      Chicken Burrito   \n",
              "3829      1534         1                      Chicken Burrito   \n",
              "3924      1574         1                        Bottled Water   \n",
              "4112      1647         1                         Chicken Bowl   \n",
              "4155      1660         1                  Chips and Guacamole   \n",
              "4236      1691         1                         Chicken Bowl   \n",
              "4266      1701         1                                Chips   \n",
              "4372      1745         1                  Chips and Guacamole   \n",
              "4463      1778         1                    Canned Soft Drink   \n",
              "4479      1785         1                        Bottled Water   \n",
              "4544      1806         1                        Bottled Water   \n",
              "4570      1817         1                        Bottled Water   \n",
              "4603      1827         1                     Barbacoa Burrito   \n",
              "\n",
              "                                     choice_description item_price  \n",
              "238   [Tomatillo Red Chili Salsa, [Rice, Black Beans...    $11.75   \n",
              "248                                      [Mountain Dew]     $1.09   \n",
              "297   [Tomatillo Green Chili Salsa, [Rice, Cheese, G...    $11.75   \n",
              "381                                              [Coke]     $1.25   \n",
              "484   [Fresh Tomato Salsa, [Fajita Vegetables, Rice,...     $8.75   \n",
              "567                                         [Diet Coke]     $1.25   \n",
              "617                            No description Available     $2.15   \n",
              "684                                              [Coke]     $1.25   \n",
              "773   [Tomatillo-Green Chili Salsa (Medium), Black B...     $8.49   \n",
              "908   [Roasted Chili Corn Salsa (Medium), [Rice, Faj...     $8.99   \n",
              "924           [Tomatillo-Red Chili Salsa (Hot), Cheese]     $8.49   \n",
              "1003                           No description Available     $1.50   \n",
              "1117  [Fresh Tomato Salsa, [Rice, Black Beans, Chees...    $11.25   \n",
              "1203  [Fresh Tomato Salsa, [Cheese, Sour Cream, Lett...     $8.75   \n",
              "1245                                         [Lemonade]     $1.25   \n",
              "1381                                             [Coke]     $1.25   \n",
              "1410                           No description Available     $1.50   \n",
              "1420                         [Roasted Chili Corn Salsa]     $9.25   \n",
              "1421                         [Roasted Chili Corn Salsa]     $9.39   \n",
              "1502  [Fresh Tomato Salsa, [Fajita Vegetables, Rice,...     $8.75   \n",
              "1534                           No description Available     $2.39   \n",
              "1548                           No description Available     $4.45   \n",
              "1612                                       [Blackberry]     $3.39   \n",
              "1791                                             [Coke]     $1.25   \n",
              "1792                                             [Coke]     $1.25   \n",
              "2078  [Fresh Tomato Salsa, [Cheese, Sour Cream, Lett...     $8.75   \n",
              "2127  [Fresh Tomato Salsa, [Rice, Black Beans, Chees...    $11.25   \n",
              "2307  [Roasted Chili Corn Salsa, [Fajita Vegetables,...     $8.75   \n",
              "2318  [Roasted Chili Corn Salsa, [Fajita Vegetables,...     $8.75   \n",
              "2362                                             [Coke]     $1.25   \n",
              "2448  [Tomatillo Red Chili Salsa, [Rice, Black Beans...     $8.75   \n",
              "2553                                             [Coke]     $1.25   \n",
              "2554                                             [Coke]     $1.25   \n",
              "2560                           No description Available     $4.45   \n",
              "2576                           No description Available     $2.95   \n",
              "2662  [Tomatillo Red Chili Salsa, [Fajita Vegetables...    $11.25   \n",
              "2708                           No description Available     $2.15   \n",
              "2717  [Fresh Tomato Salsa, [Rice, Black Beans, Chees...    $11.25   \n",
              "2833      [Fresh Tomato Salsa, [Rice, Cheese, Lettuce]]     $8.75   \n",
              "2881                           No description Available     $1.50   \n",
              "2973  [Tomatillo-Red Chili Salsa (Hot), [Rice, Black...     $8.49   \n",
              "2977  [Fresh Tomato Salsa, [Rice, Pinto Beans, Chees...     $9.25   \n",
              "3121                           No description Available     $4.45   \n",
              "3430                           No description Available     $2.95   \n",
              "3637                         [Fresh Tomato Salsa, Rice]     $8.75   \n",
              "3716                                       [Dr. Pepper]     $1.09   \n",
              "3764  [Fresh Tomato Salsa, [Rice, Black Beans, Chees...     $8.75   \n",
              "3829  [Fresh Tomato Salsa, [Rice, Cheese, Sour Cream...     $8.75   \n",
              "3924                           No description Available     $1.50   \n",
              "4112  [Fresh Tomato Salsa, [Fajita Vegetables, Rice,...    $11.25   \n",
              "4155                           No description Available     $4.45   \n",
              "4236                                       [White Rice]     $8.50   \n",
              "4266                           No description Available     $2.15   \n",
              "4372                           No description Available     $4.45   \n",
              "4463                                         [Lemonade]     $1.25   \n",
              "4479                           No description Available     $1.50   \n",
              "4544                           No description Available     $1.50   \n",
              "4570                           No description Available     $1.50   \n",
              "4603                      [Tomatillo Green Chili Salsa]     $9.25   "
            ],
            "text/html": [
              "\n",
              "  <div id=\"df-a484def2-e429-445e-ad01-b89afdfa2238\" class=\"colab-df-container\">\n",
              "    <div>\n",
              "<style scoped>\n",
              "    .dataframe tbody tr th:only-of-type {\n",
              "        vertical-align: middle;\n",
              "    }\n",
              "\n",
              "    .dataframe tbody tr th {\n",
              "        vertical-align: top;\n",
              "    }\n",
              "\n",
              "    .dataframe thead th {\n",
              "        text-align: right;\n",
              "    }\n",
              "</style>\n",
              "<table border=\"1\" class=\"dataframe\">\n",
              "  <thead>\n",
              "    <tr style=\"text-align: right;\">\n",
              "      <th></th>\n",
              "      <th>order_id</th>\n",
              "      <th>quantity</th>\n",
              "      <th>item_name</th>\n",
              "      <th>choice_description</th>\n",
              "      <th>item_price</th>\n",
              "    </tr>\n",
              "  </thead>\n",
              "  <tbody>\n",
              "    <tr>\n",
              "      <th>238</th>\n",
              "      <td>103</td>\n",
              "      <td>1</td>\n",
              "      <td>Steak Burrito</td>\n",
              "      <td>[Tomatillo Red Chili Salsa, [Rice, Black Beans...</td>\n",
              "      <td>$11.75</td>\n",
              "    </tr>\n",
              "    <tr>\n",
              "      <th>248</th>\n",
              "      <td>108</td>\n",
              "      <td>1</td>\n",
              "      <td>Canned Soda</td>\n",
              "      <td>[Mountain Dew]</td>\n",
              "      <td>$1.09</td>\n",
              "    </tr>\n",
              "    <tr>\n",
              "      <th>297</th>\n",
              "      <td>129</td>\n",
              "      <td>1</td>\n",
              "      <td>Steak Burrito</td>\n",
              "      <td>[Tomatillo Green Chili Salsa, [Rice, Cheese, G...</td>\n",
              "      <td>$11.75</td>\n",
              "    </tr>\n",
              "    <tr>\n",
              "      <th>381</th>\n",
              "      <td>165</td>\n",
              "      <td>1</td>\n",
              "      <td>Canned Soft Drink</td>\n",
              "      <td>[Coke]</td>\n",
              "      <td>$1.25</td>\n",
              "    </tr>\n",
              "    <tr>\n",
              "      <th>484</th>\n",
              "      <td>205</td>\n",
              "      <td>1</td>\n",
              "      <td>Chicken Bowl</td>\n",
              "      <td>[Fresh Tomato Salsa, [Fajita Vegetables, Rice,...</td>\n",
              "      <td>$8.75</td>\n",
              "    </tr>\n",
              "    <tr>\n",
              "      <th>567</th>\n",
              "      <td>233</td>\n",
              "      <td>1</td>\n",
              "      <td>Canned Soft Drink</td>\n",
              "      <td>[Diet Coke]</td>\n",
              "      <td>$1.25</td>\n",
              "    </tr>\n",
              "    <tr>\n",
              "      <th>617</th>\n",
              "      <td>254</td>\n",
              "      <td>1</td>\n",
              "      <td>Chips</td>\n",
              "      <td>No description Available</td>\n",
              "      <td>$2.15</td>\n",
              "    </tr>\n",
              "    <tr>\n",
              "      <th>684</th>\n",
              "      <td>282</td>\n",
              "      <td>1</td>\n",
              "      <td>Canned Soft Drink</td>\n",
              "      <td>[Coke]</td>\n",
              "      <td>$1.25</td>\n",
              "    </tr>\n",
              "    <tr>\n",
              "      <th>773</th>\n",
              "      <td>319</td>\n",
              "      <td>1</td>\n",
              "      <td>Chicken Bowl</td>\n",
              "      <td>[Tomatillo-Green Chili Salsa (Medium), Black B...</td>\n",
              "      <td>$8.49</td>\n",
              "    </tr>\n",
              "    <tr>\n",
              "      <th>908</th>\n",
              "      <td>376</td>\n",
              "      <td>1</td>\n",
              "      <td>Steak Burrito</td>\n",
              "      <td>[Roasted Chili Corn Salsa (Medium), [Rice, Faj...</td>\n",
              "      <td>$8.99</td>\n",
              "    </tr>\n",
              "    <tr>\n",
              "      <th>924</th>\n",
              "      <td>381</td>\n",
              "      <td>1</td>\n",
              "      <td>Chicken Soft Tacos</td>\n",
              "      <td>[Tomatillo-Red Chili Salsa (Hot), Cheese]</td>\n",
              "      <td>$8.49</td>\n",
              "    </tr>\n",
              "    <tr>\n",
              "      <th>1003</th>\n",
              "      <td>412</td>\n",
              "      <td>1</td>\n",
              "      <td>Bottled Water</td>\n",
              "      <td>No description Available</td>\n",
              "      <td>$1.50</td>\n",
              "    </tr>\n",
              "    <tr>\n",
              "      <th>1117</th>\n",
              "      <td>462</td>\n",
              "      <td>1</td>\n",
              "      <td>Chicken Burrito</td>\n",
              "      <td>[Fresh Tomato Salsa, [Rice, Black Beans, Chees...</td>\n",
              "      <td>$11.25</td>\n",
              "    </tr>\n",
              "    <tr>\n",
              "      <th>1203</th>\n",
              "      <td>491</td>\n",
              "      <td>1</td>\n",
              "      <td>Chicken Burrito</td>\n",
              "      <td>[Fresh Tomato Salsa, [Cheese, Sour Cream, Lett...</td>\n",
              "      <td>$8.75</td>\n",
              "    </tr>\n",
              "    <tr>\n",
              "      <th>1245</th>\n",
              "      <td>507</td>\n",
              "      <td>1</td>\n",
              "      <td>Canned Soft Drink</td>\n",
              "      <td>[Lemonade]</td>\n",
              "      <td>$1.25</td>\n",
              "    </tr>\n",
              "    <tr>\n",
              "      <th>1381</th>\n",
              "      <td>561</td>\n",
              "      <td>1</td>\n",
              "      <td>Canned Soft Drink</td>\n",
              "      <td>[Coke]</td>\n",
              "      <td>$1.25</td>\n",
              "    </tr>\n",
              "    <tr>\n",
              "      <th>1410</th>\n",
              "      <td>573</td>\n",
              "      <td>1</td>\n",
              "      <td>Bottled Water</td>\n",
              "      <td>No description Available</td>\n",
              "      <td>$1.50</td>\n",
              "    </tr>\n",
              "    <tr>\n",
              "      <th>1420</th>\n",
              "      <td>576</td>\n",
              "      <td>1</td>\n",
              "      <td>Barbacoa Bowl</td>\n",
              "      <td>[Roasted Chili Corn Salsa]</td>\n",
              "      <td>$9.25</td>\n",
              "    </tr>\n",
              "    <tr>\n",
              "      <th>1421</th>\n",
              "      <td>576</td>\n",
              "      <td>1</td>\n",
              "      <td>Barbacoa Salad Bowl</td>\n",
              "      <td>[Roasted Chili Corn Salsa]</td>\n",
              "      <td>$9.39</td>\n",
              "    </tr>\n",
              "    <tr>\n",
              "      <th>1502</th>\n",
              "      <td>610</td>\n",
              "      <td>1</td>\n",
              "      <td>Chicken Burrito</td>\n",
              "      <td>[Fresh Tomato Salsa, [Fajita Vegetables, Rice,...</td>\n",
              "      <td>$8.75</td>\n",
              "    </tr>\n",
              "    <tr>\n",
              "      <th>1534</th>\n",
              "      <td>624</td>\n",
              "      <td>1</td>\n",
              "      <td>Chips and Tomatillo-Red Chili Salsa</td>\n",
              "      <td>No description Available</td>\n",
              "      <td>$2.39</td>\n",
              "    </tr>\n",
              "    <tr>\n",
              "      <th>1548</th>\n",
              "      <td>628</td>\n",
              "      <td>1</td>\n",
              "      <td>Chips and Guacamole</td>\n",
              "      <td>No description Available</td>\n",
              "      <td>$4.45</td>\n",
              "    </tr>\n",
              "    <tr>\n",
              "      <th>1612</th>\n",
              "      <td>651</td>\n",
              "      <td>1</td>\n",
              "      <td>Izze</td>\n",
              "      <td>[Blackberry]</td>\n",
              "      <td>$3.39</td>\n",
              "    </tr>\n",
              "    <tr>\n",
              "      <th>1791</th>\n",
              "      <td>724</td>\n",
              "      <td>1</td>\n",
              "      <td>Canned Soft Drink</td>\n",
              "      <td>[Coke]</td>\n",
              "      <td>$1.25</td>\n",
              "    </tr>\n",
              "    <tr>\n",
              "      <th>1792</th>\n",
              "      <td>724</td>\n",
              "      <td>1</td>\n",
              "      <td>Canned Soft Drink</td>\n",
              "      <td>[Coke]</td>\n",
              "      <td>$1.25</td>\n",
              "    </tr>\n",
              "    <tr>\n",
              "      <th>2078</th>\n",
              "      <td>838</td>\n",
              "      <td>1</td>\n",
              "      <td>Chicken Soft Tacos</td>\n",
              "      <td>[Fresh Tomato Salsa, [Cheese, Sour Cream, Lett...</td>\n",
              "      <td>$8.75</td>\n",
              "    </tr>\n",
              "    <tr>\n",
              "      <th>2127</th>\n",
              "      <td>856</td>\n",
              "      <td>1</td>\n",
              "      <td>Chicken Burrito</td>\n",
              "      <td>[Fresh Tomato Salsa, [Rice, Black Beans, Chees...</td>\n",
              "      <td>$11.25</td>\n",
              "    </tr>\n",
              "    <tr>\n",
              "      <th>2307</th>\n",
              "      <td>926</td>\n",
              "      <td>1</td>\n",
              "      <td>Chicken Bowl</td>\n",
              "      <td>[Roasted Chili Corn Salsa, [Fajita Vegetables,...</td>\n",
              "      <td>$8.75</td>\n",
              "    </tr>\n",
              "    <tr>\n",
              "      <th>2318</th>\n",
              "      <td>926</td>\n",
              "      <td>1</td>\n",
              "      <td>Chicken Bowl</td>\n",
              "      <td>[Roasted Chili Corn Salsa, [Fajita Vegetables,...</td>\n",
              "      <td>$8.75</td>\n",
              "    </tr>\n",
              "    <tr>\n",
              "      <th>2362</th>\n",
              "      <td>940</td>\n",
              "      <td>1</td>\n",
              "      <td>Canned Soft Drink</td>\n",
              "      <td>[Coke]</td>\n",
              "      <td>$1.25</td>\n",
              "    </tr>\n",
              "    <tr>\n",
              "      <th>2448</th>\n",
              "      <td>972</td>\n",
              "      <td>1</td>\n",
              "      <td>Chicken Bowl</td>\n",
              "      <td>[Tomatillo Red Chili Salsa, [Rice, Black Beans...</td>\n",
              "      <td>$8.75</td>\n",
              "    </tr>\n",
              "    <tr>\n",
              "      <th>2553</th>\n",
              "      <td>1011</td>\n",
              "      <td>1</td>\n",
              "      <td>Canned Soft Drink</td>\n",
              "      <td>[Coke]</td>\n",
              "      <td>$1.25</td>\n",
              "    </tr>\n",
              "    <tr>\n",
              "      <th>2554</th>\n",
              "      <td>1011</td>\n",
              "      <td>1</td>\n",
              "      <td>Canned Soft Drink</td>\n",
              "      <td>[Coke]</td>\n",
              "      <td>$1.25</td>\n",
              "    </tr>\n",
              "    <tr>\n",
              "      <th>2560</th>\n",
              "      <td>1013</td>\n",
              "      <td>1</td>\n",
              "      <td>Chips and Guacamole</td>\n",
              "      <td>No description Available</td>\n",
              "      <td>$4.45</td>\n",
              "    </tr>\n",
              "    <tr>\n",
              "      <th>2576</th>\n",
              "      <td>1020</td>\n",
              "      <td>1</td>\n",
              "      <td>Chips and Tomatillo Red Chili Salsa</td>\n",
              "      <td>No description Available</td>\n",
              "      <td>$2.95</td>\n",
              "    </tr>\n",
              "    <tr>\n",
              "      <th>2662</th>\n",
              "      <td>1057</td>\n",
              "      <td>1</td>\n",
              "      <td>Chicken Soft Tacos</td>\n",
              "      <td>[Tomatillo Red Chili Salsa, [Fajita Vegetables...</td>\n",
              "      <td>$11.25</td>\n",
              "    </tr>\n",
              "    <tr>\n",
              "      <th>2708</th>\n",
              "      <td>1074</td>\n",
              "      <td>1</td>\n",
              "      <td>Chips</td>\n",
              "      <td>No description Available</td>\n",
              "      <td>$2.15</td>\n",
              "    </tr>\n",
              "    <tr>\n",
              "      <th>2717</th>\n",
              "      <td>1078</td>\n",
              "      <td>1</td>\n",
              "      <td>Chicken Bowl</td>\n",
              "      <td>[Fresh Tomato Salsa, [Rice, Black Beans, Chees...</td>\n",
              "      <td>$11.25</td>\n",
              "    </tr>\n",
              "    <tr>\n",
              "      <th>2833</th>\n",
              "      <td>1125</td>\n",
              "      <td>1</td>\n",
              "      <td>Chicken Burrito</td>\n",
              "      <td>[Fresh Tomato Salsa, [Rice, Cheese, Lettuce]]</td>\n",
              "      <td>$8.75</td>\n",
              "    </tr>\n",
              "    <tr>\n",
              "      <th>2881</th>\n",
              "      <td>1144</td>\n",
              "      <td>1</td>\n",
              "      <td>Bottled Water</td>\n",
              "      <td>No description Available</td>\n",
              "      <td>$1.50</td>\n",
              "    </tr>\n",
              "    <tr>\n",
              "      <th>2973</th>\n",
              "      <td>1182</td>\n",
              "      <td>1</td>\n",
              "      <td>Chicken Bowl</td>\n",
              "      <td>[Tomatillo-Red Chili Salsa (Hot), [Rice, Black...</td>\n",
              "      <td>$8.49</td>\n",
              "    </tr>\n",
              "    <tr>\n",
              "      <th>2977</th>\n",
              "      <td>1184</td>\n",
              "      <td>1</td>\n",
              "      <td>Steak Bowl</td>\n",
              "      <td>[Fresh Tomato Salsa, [Rice, Pinto Beans, Chees...</td>\n",
              "      <td>$9.25</td>\n",
              "    </tr>\n",
              "    <tr>\n",
              "      <th>3121</th>\n",
              "      <td>1244</td>\n",
              "      <td>1</td>\n",
              "      <td>Chips and Guacamole</td>\n",
              "      <td>No description Available</td>\n",
              "      <td>$4.45</td>\n",
              "    </tr>\n",
              "    <tr>\n",
              "      <th>3430</th>\n",
              "      <td>1377</td>\n",
              "      <td>1</td>\n",
              "      <td>Chips and Tomatillo Red Chili Salsa</td>\n",
              "      <td>No description Available</td>\n",
              "      <td>$2.95</td>\n",
              "    </tr>\n",
              "    <tr>\n",
              "      <th>3637</th>\n",
              "      <td>1454</td>\n",
              "      <td>1</td>\n",
              "      <td>Chicken Soft Tacos</td>\n",
              "      <td>[Fresh Tomato Salsa, Rice]</td>\n",
              "      <td>$8.75</td>\n",
              "    </tr>\n",
              "    <tr>\n",
              "      <th>3716</th>\n",
              "      <td>1484</td>\n",
              "      <td>1</td>\n",
              "      <td>Canned Soda</td>\n",
              "      <td>[Dr. Pepper]</td>\n",
              "      <td>$1.09</td>\n",
              "    </tr>\n",
              "    <tr>\n",
              "      <th>3764</th>\n",
              "      <td>1507</td>\n",
              "      <td>1</td>\n",
              "      <td>Chicken Burrito</td>\n",
              "      <td>[Fresh Tomato Salsa, [Rice, Black Beans, Chees...</td>\n",
              "      <td>$8.75</td>\n",
              "    </tr>\n",
              "    <tr>\n",
              "      <th>3829</th>\n",
              "      <td>1534</td>\n",
              "      <td>1</td>\n",
              "      <td>Chicken Burrito</td>\n",
              "      <td>[Fresh Tomato Salsa, [Rice, Cheese, Sour Cream...</td>\n",
              "      <td>$8.75</td>\n",
              "    </tr>\n",
              "    <tr>\n",
              "      <th>3924</th>\n",
              "      <td>1574</td>\n",
              "      <td>1</td>\n",
              "      <td>Bottled Water</td>\n",
              "      <td>No description Available</td>\n",
              "      <td>$1.50</td>\n",
              "    </tr>\n",
              "    <tr>\n",
              "      <th>4112</th>\n",
              "      <td>1647</td>\n",
              "      <td>1</td>\n",
              "      <td>Chicken Bowl</td>\n",
              "      <td>[Fresh Tomato Salsa, [Fajita Vegetables, Rice,...</td>\n",
              "      <td>$11.25</td>\n",
              "    </tr>\n",
              "    <tr>\n",
              "      <th>4155</th>\n",
              "      <td>1660</td>\n",
              "      <td>1</td>\n",
              "      <td>Chips and Guacamole</td>\n",
              "      <td>No description Available</td>\n",
              "      <td>$4.45</td>\n",
              "    </tr>\n",
              "    <tr>\n",
              "      <th>4236</th>\n",
              "      <td>1691</td>\n",
              "      <td>1</td>\n",
              "      <td>Chicken Bowl</td>\n",
              "      <td>[White Rice]</td>\n",
              "      <td>$8.50</td>\n",
              "    </tr>\n",
              "    <tr>\n",
              "      <th>4266</th>\n",
              "      <td>1701</td>\n",
              "      <td>1</td>\n",
              "      <td>Chips</td>\n",
              "      <td>No description Available</td>\n",
              "      <td>$2.15</td>\n",
              "    </tr>\n",
              "    <tr>\n",
              "      <th>4372</th>\n",
              "      <td>1745</td>\n",
              "      <td>1</td>\n",
              "      <td>Chips and Guacamole</td>\n",
              "      <td>No description Available</td>\n",
              "      <td>$4.45</td>\n",
              "    </tr>\n",
              "    <tr>\n",
              "      <th>4463</th>\n",
              "      <td>1778</td>\n",
              "      <td>1</td>\n",
              "      <td>Canned Soft Drink</td>\n",
              "      <td>[Lemonade]</td>\n",
              "      <td>$1.25</td>\n",
              "    </tr>\n",
              "    <tr>\n",
              "      <th>4479</th>\n",
              "      <td>1785</td>\n",
              "      <td>1</td>\n",
              "      <td>Bottled Water</td>\n",
              "      <td>No description Available</td>\n",
              "      <td>$1.50</td>\n",
              "    </tr>\n",
              "    <tr>\n",
              "      <th>4544</th>\n",
              "      <td>1806</td>\n",
              "      <td>1</td>\n",
              "      <td>Bottled Water</td>\n",
              "      <td>No description Available</td>\n",
              "      <td>$1.50</td>\n",
              "    </tr>\n",
              "    <tr>\n",
              "      <th>4570</th>\n",
              "      <td>1817</td>\n",
              "      <td>1</td>\n",
              "      <td>Bottled Water</td>\n",
              "      <td>No description Available</td>\n",
              "      <td>$1.50</td>\n",
              "    </tr>\n",
              "    <tr>\n",
              "      <th>4603</th>\n",
              "      <td>1827</td>\n",
              "      <td>1</td>\n",
              "      <td>Barbacoa Burrito</td>\n",
              "      <td>[Tomatillo Green Chili Salsa]</td>\n",
              "      <td>$9.25</td>\n",
              "    </tr>\n",
              "  </tbody>\n",
              "</table>\n",
              "</div>\n",
              "    <div class=\"colab-df-buttons\">\n",
              "\n",
              "  <div class=\"colab-df-container\">\n",
              "    <button class=\"colab-df-convert\" onclick=\"convertToInteractive('df-a484def2-e429-445e-ad01-b89afdfa2238')\"\n",
              "            title=\"Convert this dataframe to an interactive table.\"\n",
              "            style=\"display:none;\">\n",
              "\n",
              "  <svg xmlns=\"http://www.w3.org/2000/svg\" height=\"24px\" viewBox=\"0 -960 960 960\">\n",
              "    <path d=\"M120-120v-720h720v720H120Zm60-500h600v-160H180v160Zm220 220h160v-160H400v160Zm0 220h160v-160H400v160ZM180-400h160v-160H180v160Zm440 0h160v-160H620v160ZM180-180h160v-160H180v160Zm440 0h160v-160H620v160Z\"/>\n",
              "  </svg>\n",
              "    </button>\n",
              "\n",
              "  <style>\n",
              "    .colab-df-container {\n",
              "      display:flex;\n",
              "      gap: 12px;\n",
              "    }\n",
              "\n",
              "    .colab-df-convert {\n",
              "      background-color: #E8F0FE;\n",
              "      border: none;\n",
              "      border-radius: 50%;\n",
              "      cursor: pointer;\n",
              "      display: none;\n",
              "      fill: #1967D2;\n",
              "      height: 32px;\n",
              "      padding: 0 0 0 0;\n",
              "      width: 32px;\n",
              "    }\n",
              "\n",
              "    .colab-df-convert:hover {\n",
              "      background-color: #E2EBFA;\n",
              "      box-shadow: 0px 1px 2px rgba(60, 64, 67, 0.3), 0px 1px 3px 1px rgba(60, 64, 67, 0.15);\n",
              "      fill: #174EA6;\n",
              "    }\n",
              "\n",
              "    .colab-df-buttons div {\n",
              "      margin-bottom: 4px;\n",
              "    }\n",
              "\n",
              "    [theme=dark] .colab-df-convert {\n",
              "      background-color: #3B4455;\n",
              "      fill: #D2E3FC;\n",
              "    }\n",
              "\n",
              "    [theme=dark] .colab-df-convert:hover {\n",
              "      background-color: #434B5C;\n",
              "      box-shadow: 0px 1px 3px 1px rgba(0, 0, 0, 0.15);\n",
              "      filter: drop-shadow(0px 1px 2px rgba(0, 0, 0, 0.3));\n",
              "      fill: #FFFFFF;\n",
              "    }\n",
              "  </style>\n",
              "\n",
              "    <script>\n",
              "      const buttonEl =\n",
              "        document.querySelector('#df-a484def2-e429-445e-ad01-b89afdfa2238 button.colab-df-convert');\n",
              "      buttonEl.style.display =\n",
              "        google.colab.kernel.accessAllowed ? 'block' : 'none';\n",
              "\n",
              "      async function convertToInteractive(key) {\n",
              "        const element = document.querySelector('#df-a484def2-e429-445e-ad01-b89afdfa2238');\n",
              "        const dataTable =\n",
              "          await google.colab.kernel.invokeFunction('convertToInteractive',\n",
              "                                                    [key], {});\n",
              "        if (!dataTable) return;\n",
              "\n",
              "        const docLinkHtml = 'Like what you see? Visit the ' +\n",
              "          '<a target=\"_blank\" href=https://colab.research.google.com/notebooks/data_table.ipynb>data table notebook</a>'\n",
              "          + ' to learn more about interactive tables.';\n",
              "        element.innerHTML = '';\n",
              "        dataTable['output_type'] = 'display_data';\n",
              "        await google.colab.output.renderOutput(dataTable, element);\n",
              "        const docLink = document.createElement('div');\n",
              "        docLink.innerHTML = docLinkHtml;\n",
              "        element.appendChild(docLink);\n",
              "      }\n",
              "    </script>\n",
              "  </div>\n",
              "\n",
              "\n",
              "<div id=\"df-ff7ee35b-3586-435a-8940-c741f232d612\">\n",
              "  <button class=\"colab-df-quickchart\" onclick=\"quickchart('df-ff7ee35b-3586-435a-8940-c741f232d612')\"\n",
              "            title=\"Suggest charts\"\n",
              "            style=\"display:none;\">\n",
              "\n",
              "<svg xmlns=\"http://www.w3.org/2000/svg\" height=\"24px\"viewBox=\"0 0 24 24\"\n",
              "     width=\"24px\">\n",
              "    <g>\n",
              "        <path d=\"M19 3H5c-1.1 0-2 .9-2 2v14c0 1.1.9 2 2 2h14c1.1 0 2-.9 2-2V5c0-1.1-.9-2-2-2zM9 17H7v-7h2v7zm4 0h-2V7h2v10zm4 0h-2v-4h2v4z\"/>\n",
              "    </g>\n",
              "</svg>\n",
              "  </button>\n",
              "\n",
              "<style>\n",
              "  .colab-df-quickchart {\n",
              "      --bg-color: #E8F0FE;\n",
              "      --fill-color: #1967D2;\n",
              "      --hover-bg-color: #E2EBFA;\n",
              "      --hover-fill-color: #174EA6;\n",
              "      --disabled-fill-color: #AAA;\n",
              "      --disabled-bg-color: #DDD;\n",
              "  }\n",
              "\n",
              "  [theme=dark] .colab-df-quickchart {\n",
              "      --bg-color: #3B4455;\n",
              "      --fill-color: #D2E3FC;\n",
              "      --hover-bg-color: #434B5C;\n",
              "      --hover-fill-color: #FFFFFF;\n",
              "      --disabled-bg-color: #3B4455;\n",
              "      --disabled-fill-color: #666;\n",
              "  }\n",
              "\n",
              "  .colab-df-quickchart {\n",
              "    background-color: var(--bg-color);\n",
              "    border: none;\n",
              "    border-radius: 50%;\n",
              "    cursor: pointer;\n",
              "    display: none;\n",
              "    fill: var(--fill-color);\n",
              "    height: 32px;\n",
              "    padding: 0;\n",
              "    width: 32px;\n",
              "  }\n",
              "\n",
              "  .colab-df-quickchart:hover {\n",
              "    background-color: var(--hover-bg-color);\n",
              "    box-shadow: 0 1px 2px rgba(60, 64, 67, 0.3), 0 1px 3px 1px rgba(60, 64, 67, 0.15);\n",
              "    fill: var(--button-hover-fill-color);\n",
              "  }\n",
              "\n",
              "  .colab-df-quickchart-complete:disabled,\n",
              "  .colab-df-quickchart-complete:disabled:hover {\n",
              "    background-color: var(--disabled-bg-color);\n",
              "    fill: var(--disabled-fill-color);\n",
              "    box-shadow: none;\n",
              "  }\n",
              "\n",
              "  .colab-df-spinner {\n",
              "    border: 2px solid var(--fill-color);\n",
              "    border-color: transparent;\n",
              "    border-bottom-color: var(--fill-color);\n",
              "    animation:\n",
              "      spin 1s steps(1) infinite;\n",
              "  }\n",
              "\n",
              "  @keyframes spin {\n",
              "    0% {\n",
              "      border-color: transparent;\n",
              "      border-bottom-color: var(--fill-color);\n",
              "      border-left-color: var(--fill-color);\n",
              "    }\n",
              "    20% {\n",
              "      border-color: transparent;\n",
              "      border-left-color: var(--fill-color);\n",
              "      border-top-color: var(--fill-color);\n",
              "    }\n",
              "    30% {\n",
              "      border-color: transparent;\n",
              "      border-left-color: var(--fill-color);\n",
              "      border-top-color: var(--fill-color);\n",
              "      border-right-color: var(--fill-color);\n",
              "    }\n",
              "    40% {\n",
              "      border-color: transparent;\n",
              "      border-right-color: var(--fill-color);\n",
              "      border-top-color: var(--fill-color);\n",
              "    }\n",
              "    60% {\n",
              "      border-color: transparent;\n",
              "      border-right-color: var(--fill-color);\n",
              "    }\n",
              "    80% {\n",
              "      border-color: transparent;\n",
              "      border-right-color: var(--fill-color);\n",
              "      border-bottom-color: var(--fill-color);\n",
              "    }\n",
              "    90% {\n",
              "      border-color: transparent;\n",
              "      border-bottom-color: var(--fill-color);\n",
              "    }\n",
              "  }\n",
              "</style>\n",
              "\n",
              "  <script>\n",
              "    async function quickchart(key) {\n",
              "      const quickchartButtonEl =\n",
              "        document.querySelector('#' + key + ' button');\n",
              "      quickchartButtonEl.disabled = true;  // To prevent multiple clicks.\n",
              "      quickchartButtonEl.classList.add('colab-df-spinner');\n",
              "      try {\n",
              "        const charts = await google.colab.kernel.invokeFunction(\n",
              "            'suggestCharts', [key], {});\n",
              "      } catch (error) {\n",
              "        console.error('Error during call to suggestCharts:', error);\n",
              "      }\n",
              "      quickchartButtonEl.classList.remove('colab-df-spinner');\n",
              "      quickchartButtonEl.classList.add('colab-df-quickchart-complete');\n",
              "    }\n",
              "    (() => {\n",
              "      let quickchartButtonEl =\n",
              "        document.querySelector('#df-ff7ee35b-3586-435a-8940-c741f232d612 button');\n",
              "      quickchartButtonEl.style.display =\n",
              "        google.colab.kernel.accessAllowed ? 'block' : 'none';\n",
              "    })();\n",
              "  </script>\n",
              "</div>\n",
              "\n",
              "  <div id=\"id_4497fadd-e4d4-4a9b-9a77-bf424f6376ff\">\n",
              "    <style>\n",
              "      .colab-df-generate {\n",
              "        background-color: #E8F0FE;\n",
              "        border: none;\n",
              "        border-radius: 50%;\n",
              "        cursor: pointer;\n",
              "        display: none;\n",
              "        fill: #1967D2;\n",
              "        height: 32px;\n",
              "        padding: 0 0 0 0;\n",
              "        width: 32px;\n",
              "      }\n",
              "\n",
              "      .colab-df-generate:hover {\n",
              "        background-color: #E2EBFA;\n",
              "        box-shadow: 0px 1px 2px rgba(60, 64, 67, 0.3), 0px 1px 3px 1px rgba(60, 64, 67, 0.15);\n",
              "        fill: #174EA6;\n",
              "      }\n",
              "\n",
              "      [theme=dark] .colab-df-generate {\n",
              "        background-color: #3B4455;\n",
              "        fill: #D2E3FC;\n",
              "      }\n",
              "\n",
              "      [theme=dark] .colab-df-generate:hover {\n",
              "        background-color: #434B5C;\n",
              "        box-shadow: 0px 1px 3px 1px rgba(0, 0, 0, 0.15);\n",
              "        filter: drop-shadow(0px 1px 2px rgba(0, 0, 0, 0.3));\n",
              "        fill: #FFFFFF;\n",
              "      }\n",
              "    </style>\n",
              "    <button class=\"colab-df-generate\" onclick=\"generateWithVariable('duplicates')\"\n",
              "            title=\"Generate code using this dataframe.\"\n",
              "            style=\"display:none;\">\n",
              "\n",
              "  <svg xmlns=\"http://www.w3.org/2000/svg\" height=\"24px\"viewBox=\"0 0 24 24\"\n",
              "       width=\"24px\">\n",
              "    <path d=\"M7,19H8.4L18.45,9,17,7.55,7,17.6ZM5,21V16.75L18.45,3.32a2,2,0,0,1,2.83,0l1.4,1.43a1.91,1.91,0,0,1,.58,1.4,1.91,1.91,0,0,1-.58,1.4L9.25,21ZM18.45,9,17,7.55Zm-12,3A5.31,5.31,0,0,0,4.9,8.1,5.31,5.31,0,0,0,1,6.5,5.31,5.31,0,0,0,4.9,4.9,5.31,5.31,0,0,0,6.5,1,5.31,5.31,0,0,0,8.1,4.9,5.31,5.31,0,0,0,12,6.5,5.46,5.46,0,0,0,6.5,12Z\"/>\n",
              "  </svg>\n",
              "    </button>\n",
              "    <script>\n",
              "      (() => {\n",
              "      const buttonEl =\n",
              "        document.querySelector('#id_4497fadd-e4d4-4a9b-9a77-bf424f6376ff button.colab-df-generate');\n",
              "      buttonEl.style.display =\n",
              "        google.colab.kernel.accessAllowed ? 'block' : 'none';\n",
              "\n",
              "      buttonEl.onclick = () => {\n",
              "        google.colab.notebook.generateWithVariable('duplicates');\n",
              "      }\n",
              "      })();\n",
              "    </script>\n",
              "  </div>\n",
              "\n",
              "    </div>\n",
              "  </div>\n"
            ]
          },
          "metadata": {},
          "execution_count": 24
        }
      ]
    },
    {
      "cell_type": "markdown",
      "source": [
        "The appropriate action would be to drop those duplicate rows. as it does not make sense to keep duplicate rows"
      ],
      "metadata": {
        "id": "N0kiYqS0-C98"
      }
    },
    {
      "cell_type": "code",
      "source": [
        "df.drop_duplicates(inplace=True)"
      ],
      "metadata": {
        "id": "F_N5b1s89cBT"
      },
      "execution_count": 25,
      "outputs": []
    },
    {
      "cell_type": "code",
      "source": [
        "df.shape"
      ],
      "metadata": {
        "colab": {
          "base_uri": "https://localhost:8080/"
        },
        "id": "Zv85Czik-Wmg",
        "outputId": "54d048eb-3ce4-4c73-b85b-4853b2524b31"
      },
      "execution_count": 26,
      "outputs": [
        {
          "output_type": "execute_result",
          "data": {
            "text/plain": [
              "(4563, 5)"
            ]
          },
          "metadata": {},
          "execution_count": 26
        }
      ]
    },
    {
      "cell_type": "code",
      "source": [
        "df.duplicated().sum()"
      ],
      "metadata": {
        "colab": {
          "base_uri": "https://localhost:8080/"
        },
        "id": "DnoHWj97-YF_",
        "outputId": "2b47858b-c36c-4b39-f931-3a5c123a790f"
      },
      "execution_count": 28,
      "outputs": [
        {
          "output_type": "execute_result",
          "data": {
            "text/plain": [
              "0"
            ]
          },
          "metadata": {},
          "execution_count": 28
        }
      ]
    },
    {
      "cell_type": "markdown",
      "source": [
        "4. **Quantity and Item Price**:\n",
        "Question: Examine the Quantity and Item Price columns. Are there any inconsistencies or anomalies that need correction?\n",
        "\n",
        "---\n",
        "\n",
        "\n"
      ],
      "metadata": {
        "id": "YRCPnDthLKi6"
      }
    },
    {
      "cell_type": "code",
      "source": [
        "print(\"Quantity\")\n",
        "print(df[\"quantity\"].value_counts())\n",
        "df[\"quantity\"].unique()"
      ],
      "metadata": {
        "colab": {
          "base_uri": "https://localhost:8080/"
        },
        "id": "W7szhXG7-asQ",
        "outputId": "e16aa467-569a-4801-fcbb-01dc47d498ec"
      },
      "execution_count": 32,
      "outputs": [
        {
          "output_type": "stream",
          "name": "stdout",
          "text": [
            "Quantity\n",
            "1     4296\n",
            "2      224\n",
            "3       28\n",
            "4       10\n",
            "5        1\n",
            "15       1\n",
            "7        1\n",
            "8        1\n",
            "10       1\n",
            "Name: quantity, dtype: int64\n"
          ]
        },
        {
          "output_type": "execute_result",
          "data": {
            "text/plain": [
              "array([ 1,  2,  3,  4,  5, 15,  7,  8, 10])"
            ]
          },
          "metadata": {},
          "execution_count": 32
        }
      ]
    },
    {
      "cell_type": "code",
      "source": [
        "print(\"Item Price\")\n",
        "print(df[\"item_price\"].value_counts())\n",
        "df[\"item_price\"].unique()"
      ],
      "metadata": {
        "colab": {
          "base_uri": "https://localhost:8080/"
        },
        "id": "hNCAqvb0anmw",
        "outputId": "41d221c9-732c-4c70-904c-ecd83fb595bc"
      },
      "execution_count": 34,
      "outputs": [
        {
          "output_type": "stream",
          "name": "stdout",
          "text": [
            "Item Price\n",
            "$8.75      719\n",
            "$11.25     516\n",
            "$9.25      395\n",
            "$4.45      344\n",
            "$8.49      308\n",
            "          ... \n",
            "$13.35       1\n",
            "$7.50        1\n",
            "$4.36        1\n",
            "$32.94       1\n",
            "$11.49       1\n",
            "Name: item_price, Length: 78, dtype: int64\n"
          ]
        },
        {
          "output_type": "execute_result",
          "data": {
            "text/plain": [
              "array(['$2.39 ', '$3.39 ', '$16.98 ', '$10.98 ', '$1.69 ', '$11.75 ',\n",
              "       '$9.25 ', '$4.45 ', '$8.75 ', '$11.25 ', '$8.49 ', '$2.18 ',\n",
              "       '$8.99 ', '$1.09 ', '$2.95 ', '$2.15 ', '$3.99 ', '$22.50 ',\n",
              "       '$11.48 ', '$17.98 ', '$17.50 ', '$4.30 ', '$5.90 ', '$1.25 ',\n",
              "       '$23.78 ', '$6.49 ', '$11.08 ', '$1.50 ', '$22.16 ', '$32.94 ',\n",
              "       '$22.20 ', '$10.58 ', '$2.50 ', '$23.50 ', '$7.40 ', '$18.50 ',\n",
              "       '$3.00 ', '$6.78 ', '$11.89 ', '$9.39 ', '$4.00 ', '$3.75 ',\n",
              "       '$8.69 ', '$2.29 ', '$8.90 ', '$3.27 ', '$3.89 ', '$8.19 ',\n",
              "       '$35.00 ', '$27.75 ', '$11.80 ', '$6.00 ', '$26.25 ', '$21.96 ',\n",
              "       '$4.36 ', '$7.50 ', '$4.78 ', '$13.35 ', '$6.45 ', '$5.07 ',\n",
              "       '$22.96 ', '$7.17 ', '$7.98 ', '$4.50 ', '$26.07 ', '$12.98 ',\n",
              "       '$35.25 ', '$44.25 ', '$10.50 ', '$33.75 ', '$16.38 ', '$13.52 ',\n",
              "       '$5.00 ', '$15.00 ', '$8.50 ', '$17.80 ', '$1.99 ', '$11.49 '],\n",
              "      dtype=object)"
            ]
          },
          "metadata": {},
          "execution_count": 34
        }
      ]
    },
    {
      "cell_type": "markdown",
      "source": [
        "removing the $ sign from the item_price cols makes it more appropriate"
      ],
      "metadata": {
        "id": "9Jlq7jGIbZ7h"
      }
    },
    {
      "cell_type": "markdown",
      "source": [
        "5. **Choice Description**:\n",
        "Question: Analyze the Choice Description column. How should choices be handled, especially when there are multiple descriptions for a single item?\n"
      ],
      "metadata": {
        "id": "gx2VTwDhb1Ij"
      }
    },
    {
      "cell_type": "code",
      "source": [
        "df[\"choice_description\"].unique()"
      ],
      "metadata": {
        "colab": {
          "base_uri": "https://localhost:8080/"
        },
        "id": "XoIgzNpnbUDW",
        "outputId": "cf925b9b-49c7-4e3e-d9fb-fad3619698c5"
      },
      "execution_count": 36,
      "outputs": [
        {
          "output_type": "execute_result",
          "data": {
            "text/plain": [
              "array(['No description Available', '[Clementine]', '[Apple]', ...,\n",
              "       '[Roasted Chili Corn Salsa, [Pinto Beans, Sour Cream, Cheese, Lettuce, Guacamole]]',\n",
              "       '[Tomatillo Green Chili Salsa, [Rice, Black Beans]]',\n",
              "       '[Tomatillo Green Chili Salsa, [Rice, Fajita Vegetables, Black Beans, Guacamole]]'],\n",
              "      dtype=object)"
            ]
          },
          "metadata": {},
          "execution_count": 36
        }
      ]
    },
    {
      "cell_type": "code",
      "source": [
        "df[\"choice_description\"].value_counts()"
      ],
      "metadata": {
        "colab": {
          "base_uri": "https://localhost:8080/"
        },
        "id": "EfPQhYHMb-vW",
        "outputId": "2d6d5cc1-ce42-48e9-f1a2-69eb50a65be3"
      },
      "execution_count": 37,
      "outputs": [
        {
          "output_type": "execute_result",
          "data": {
            "text/plain": [
              "No description Available                                                                                                                         1228\n",
              "[Diet Coke]                                                                                                                                       133\n",
              "[Coke]                                                                                                                                            115\n",
              "[Sprite]                                                                                                                                           77\n",
              "[Fresh Tomato Salsa, [Rice, Black Beans, Cheese, Sour Cream, Lettuce]]                                                                             41\n",
              "                                                                                                                                                 ... \n",
              "[Tomatillo Green Chili Salsa, [Sour Cream, Cheese, Guacamole, Rice, Fajita Vegetables]]                                                             1\n",
              "[Fresh Tomato Salsa (Mild), [Pinto Beans, Black Beans, Rice, Cheese, Sour Cream, Lettuce]]                                                          1\n",
              "[[Fresh Tomato Salsa (Mild), Roasted Chili Corn Salsa (Medium), Tomatillo-Red Chili Salsa (Hot)], [Pinto Beans, Cheese, Sour Cream, Lettuce]]       1\n",
              "[Fresh Tomato (Mild), [Guacamole, Rice, Black Beans]]                                                                                               1\n",
              "[Tomatillo Green Chili Salsa, [Rice, Fajita Vegetables, Black Beans, Guacamole]]                                                                    1\n",
              "Name: choice_description, Length: 1044, dtype: int64"
            ]
          },
          "metadata": {},
          "execution_count": 37
        }
      ]
    },
    {
      "cell_type": "markdown",
      "source": [
        "There are multiple description for single item so what we can do is split the data using separator as comma and creating additional columns to store multiple descriptions."
      ],
      "metadata": {
        "id": "zS5KM6LndLfx"
      }
    },
    {
      "cell_type": "markdown",
      "source": [
        "6. **Handling Special Characters**:\n",
        "Question: Check for special characters in text-based columns (e.g., Item Name, Choice Description). How can these be addressed for consistency?\n"
      ],
      "metadata": {
        "id": "LXvb9poZd1Zk"
      }
    },
    {
      "cell_type": "markdown",
      "source": [
        "special character in item_name column is - (hyphen) and in Choice description column is [ ] and comma so removing these special character from data leads to consistency"
      ],
      "metadata": {
        "id": "p-Zx-Ugxd-Bh"
      }
    },
    {
      "cell_type": "code",
      "source": [
        "df['item_name'].unique()"
      ],
      "metadata": {
        "colab": {
          "base_uri": "https://localhost:8080/"
        },
        "id": "ADGu3GlwcEsx",
        "outputId": "3827031a-14a6-4276-ac79-624d200931cb"
      },
      "execution_count": 39,
      "outputs": [
        {
          "output_type": "execute_result",
          "data": {
            "text/plain": [
              "array(['Chips and Fresh Tomato Salsa', 'Izze', 'Nantucket Nectar',\n",
              "       'Chips and Tomatillo-Green Chili Salsa', 'Chicken Bowl',\n",
              "       'Side of Chips', 'Steak Burrito', 'Steak Soft Tacos',\n",
              "       'Chips and Guacamole', 'Chicken Crispy Tacos',\n",
              "       'Chicken Soft Tacos', 'Chicken Burrito', 'Canned Soda',\n",
              "       'Barbacoa Burrito', 'Carnitas Burrito', 'Carnitas Bowl',\n",
              "       'Bottled Water', 'Chips and Tomatillo Green Chili Salsa',\n",
              "       'Barbacoa Bowl', 'Chips', 'Chicken Salad Bowl', 'Steak Bowl',\n",
              "       'Barbacoa Soft Tacos', 'Veggie Burrito', 'Veggie Bowl',\n",
              "       'Steak Crispy Tacos', 'Chips and Tomatillo Red Chili Salsa',\n",
              "       'Barbacoa Crispy Tacos', 'Veggie Salad Bowl',\n",
              "       'Chips and Roasted Chili-Corn Salsa',\n",
              "       'Chips and Roasted Chili Corn Salsa', 'Carnitas Soft Tacos',\n",
              "       'Chicken Salad', 'Canned Soft Drink', 'Steak Salad Bowl',\n",
              "       '6 Pack Soft Drink', 'Chips and Tomatillo-Red Chili Salsa', 'Bowl',\n",
              "       'Burrito', 'Crispy Tacos', 'Carnitas Crispy Tacos', 'Steak Salad',\n",
              "       'Chips and Mild Fresh Tomato Salsa', 'Veggie Soft Tacos',\n",
              "       'Carnitas Salad Bowl', 'Barbacoa Salad Bowl', 'Salad',\n",
              "       'Veggie Crispy Tacos', 'Veggie Salad', 'Carnitas Salad'],\n",
              "      dtype=object)"
            ]
          },
          "metadata": {},
          "execution_count": 39
        }
      ]
    },
    {
      "cell_type": "code",
      "source": [
        "df[\"item_name\"] = df[\"item_name\"].replace(\"-\",\" \",regex=True)"
      ],
      "metadata": {
        "id": "Izm_b3xRekHd"
      },
      "execution_count": 40,
      "outputs": []
    },
    {
      "cell_type": "code",
      "source": [
        "df[\"item_name\"].unique()"
      ],
      "metadata": {
        "colab": {
          "base_uri": "https://localhost:8080/"
        },
        "id": "L_eW3STzfNgX",
        "outputId": "f221e75b-552d-49f6-d382-a3ec5747de06"
      },
      "execution_count": 41,
      "outputs": [
        {
          "output_type": "execute_result",
          "data": {
            "text/plain": [
              "array(['Chips and Fresh Tomato Salsa', 'Izze', 'Nantucket Nectar',\n",
              "       'Chips and Tomatillo Green Chili Salsa', 'Chicken Bowl',\n",
              "       'Side of Chips', 'Steak Burrito', 'Steak Soft Tacos',\n",
              "       'Chips and Guacamole', 'Chicken Crispy Tacos',\n",
              "       'Chicken Soft Tacos', 'Chicken Burrito', 'Canned Soda',\n",
              "       'Barbacoa Burrito', 'Carnitas Burrito', 'Carnitas Bowl',\n",
              "       'Bottled Water', 'Barbacoa Bowl', 'Chips', 'Chicken Salad Bowl',\n",
              "       'Steak Bowl', 'Barbacoa Soft Tacos', 'Veggie Burrito',\n",
              "       'Veggie Bowl', 'Steak Crispy Tacos',\n",
              "       'Chips and Tomatillo Red Chili Salsa', 'Barbacoa Crispy Tacos',\n",
              "       'Veggie Salad Bowl', 'Chips and Roasted Chili Corn Salsa',\n",
              "       'Carnitas Soft Tacos', 'Chicken Salad', 'Canned Soft Drink',\n",
              "       'Steak Salad Bowl', '6 Pack Soft Drink', 'Bowl', 'Burrito',\n",
              "       'Crispy Tacos', 'Carnitas Crispy Tacos', 'Steak Salad',\n",
              "       'Chips and Mild Fresh Tomato Salsa', 'Veggie Soft Tacos',\n",
              "       'Carnitas Salad Bowl', 'Barbacoa Salad Bowl', 'Salad',\n",
              "       'Veggie Crispy Tacos', 'Veggie Salad', 'Carnitas Salad'],\n",
              "      dtype=object)"
            ]
          },
          "metadata": {},
          "execution_count": 41
        }
      ]
    },
    {
      "cell_type": "code",
      "source": [
        "df[\"choice_description\"].unique()"
      ],
      "metadata": {
        "colab": {
          "base_uri": "https://localhost:8080/"
        },
        "id": "lKNXPJuSfQdN",
        "outputId": "5dd69670-f4bf-434b-c254-7104eea6da67"
      },
      "execution_count": 42,
      "outputs": [
        {
          "output_type": "execute_result",
          "data": {
            "text/plain": [
              "array(['No description Available', '[Clementine]', '[Apple]', ...,\n",
              "       '[Roasted Chili Corn Salsa, [Pinto Beans, Sour Cream, Cheese, Lettuce, Guacamole]]',\n",
              "       '[Tomatillo Green Chili Salsa, [Rice, Black Beans]]',\n",
              "       '[Tomatillo Green Chili Salsa, [Rice, Fajita Vegetables, Black Beans, Guacamole]]'],\n",
              "      dtype=object)"
            ]
          },
          "metadata": {},
          "execution_count": 42
        }
      ]
    },
    {
      "cell_type": "code",
      "source": [
        "df[\"choice_description\"]=df[\"choice_description\"].str.strip(\"[]\")"
      ],
      "metadata": {
        "id": "aU4G8K6IgAPx"
      },
      "execution_count": 43,
      "outputs": []
    },
    {
      "cell_type": "code",
      "source": [
        "df[\"choice_description\"].unique()"
      ],
      "metadata": {
        "colab": {
          "base_uri": "https://localhost:8080/"
        },
        "id": "ptAu8r8WgmXg",
        "outputId": "3d2abbc9-04fc-43a3-8cb7-3089b8800e59"
      },
      "execution_count": 45,
      "outputs": [
        {
          "output_type": "execute_result",
          "data": {
            "text/plain": [
              "array(['No description Available', 'Clementine', 'Apple', ...,\n",
              "       'Roasted Chili Corn Salsa, [Pinto Beans, Sour Cream, Cheese, Lettuce, Guacamole',\n",
              "       'Tomatillo Green Chili Salsa, [Rice, Black Beans',\n",
              "       'Tomatillo Green Chili Salsa, [Rice, Fajita Vegetables, Black Beans, Guacamole'],\n",
              "      dtype=object)"
            ]
          },
          "metadata": {},
          "execution_count": 45
        }
      ]
    },
    {
      "cell_type": "code",
      "source": [
        "df[\"choice_description\"]=df[\"choice_description\"].str.replace(\"[\",\"\").str.replace(\"]\",\"\")"
      ],
      "metadata": {
        "colab": {
          "base_uri": "https://localhost:8080/"
        },
        "id": "X20-XIyYgoZw",
        "outputId": "997c62e3-93ed-4034-e31b-619f21113d39"
      },
      "execution_count": 46,
      "outputs": [
        {
          "output_type": "stream",
          "name": "stderr",
          "text": [
            "<ipython-input-46-87543edc9ee9>:1: FutureWarning: The default value of regex will change from True to False in a future version. In addition, single character regular expressions will *not* be treated as literal strings when regex=True.\n",
            "  df[\"choice_description\"]=df[\"choice_description\"].str.replace(\"[\",\"\").str.replace(\"]\",\"\")\n"
          ]
        }
      ]
    },
    {
      "cell_type": "code",
      "source": [
        "df[\"choice_description\"].unique()"
      ],
      "metadata": {
        "colab": {
          "base_uri": "https://localhost:8080/"
        },
        "id": "Fpi13Px6hV-0",
        "outputId": "d0ee8c22-3bc3-4000-8744-31f9996066f8"
      },
      "execution_count": 47,
      "outputs": [
        {
          "output_type": "execute_result",
          "data": {
            "text/plain": [
              "array(['No description Available', 'Clementine', 'Apple', ...,\n",
              "       'Roasted Chili Corn Salsa, Pinto Beans, Sour Cream, Cheese, Lettuce, Guacamole',\n",
              "       'Tomatillo Green Chili Salsa, Rice, Black Beans',\n",
              "       'Tomatillo Green Chili Salsa, Rice, Fajita Vegetables, Black Beans, Guacamole'],\n",
              "      dtype=object)"
            ]
          },
          "metadata": {},
          "execution_count": 47
        }
      ]
    },
    {
      "cell_type": "code",
      "source": [
        "df[\"item_price\"]=df[\"item_price\"].str.replace(\"$\",\"\")"
      ],
      "metadata": {
        "colab": {
          "base_uri": "https://localhost:8080/"
        },
        "id": "D450ATvdhZSs",
        "outputId": "24d883e2-6907-4fb2-a5ad-bb62fa235efd"
      },
      "execution_count": 50,
      "outputs": [
        {
          "output_type": "stream",
          "name": "stderr",
          "text": [
            "<ipython-input-50-da8256b9c9e9>:1: FutureWarning: The default value of regex will change from True to False in a future version. In addition, single character regular expressions will *not* be treated as literal strings when regex=True.\n",
            "  df[\"item_price\"]=df[\"item_price\"].str.replace(\"$\",\"\")\n"
          ]
        }
      ]
    },
    {
      "cell_type": "code",
      "source": [
        "df[\"item_price\"].unique()"
      ],
      "metadata": {
        "colab": {
          "base_uri": "https://localhost:8080/"
        },
        "id": "dWkqqjFtiF7B",
        "outputId": "362ebba3-24a0-4adf-9e90-533b0d83eeb1"
      },
      "execution_count": 51,
      "outputs": [
        {
          "output_type": "execute_result",
          "data": {
            "text/plain": [
              "array(['2.39 ', '3.39 ', '16.98 ', '10.98 ', '1.69 ', '11.75 ', '9.25 ',\n",
              "       '4.45 ', '8.75 ', '11.25 ', '8.49 ', '2.18 ', '8.99 ', '1.09 ',\n",
              "       '2.95 ', '2.15 ', '3.99 ', '22.50 ', '11.48 ', '17.98 ', '17.50 ',\n",
              "       '4.30 ', '5.90 ', '1.25 ', '23.78 ', '6.49 ', '11.08 ', '1.50 ',\n",
              "       '22.16 ', '32.94 ', '22.20 ', '10.58 ', '2.50 ', '23.50 ', '7.40 ',\n",
              "       '18.50 ', '3.00 ', '6.78 ', '11.89 ', '9.39 ', '4.00 ', '3.75 ',\n",
              "       '8.69 ', '2.29 ', '8.90 ', '3.27 ', '3.89 ', '8.19 ', '35.00 ',\n",
              "       '27.75 ', '11.80 ', '6.00 ', '26.25 ', '21.96 ', '4.36 ', '7.50 ',\n",
              "       '4.78 ', '13.35 ', '6.45 ', '5.07 ', '22.96 ', '7.17 ', '7.98 ',\n",
              "       '4.50 ', '26.07 ', '12.98 ', '35.25 ', '44.25 ', '10.50 ',\n",
              "       '33.75 ', '16.38 ', '13.52 ', '5.00 ', '15.00 ', '8.50 ', '17.80 ',\n",
              "       '1.99 ', '11.49 '], dtype=object)"
            ]
          },
          "metadata": {},
          "execution_count": 51
        }
      ]
    },
    {
      "cell_type": "markdown",
      "source": [
        "7. **Order Id Integrity**:\n",
        "Question: Cross-reference the Order ID column for integrity. Are there any irregularities or patterns that need validation?\n"
      ],
      "metadata": {
        "id": "9zC-s1Pzinv0"
      }
    },
    {
      "cell_type": "code",
      "source": [
        "df['order_id'].isnull().any()"
      ],
      "metadata": {
        "colab": {
          "base_uri": "https://localhost:8080/"
        },
        "id": "LdxXEhceiI3Y",
        "outputId": "0ee2a0d6-cb10-4009-b288-bc7c4233c994"
      },
      "execution_count": 52,
      "outputs": [
        {
          "output_type": "execute_result",
          "data": {
            "text/plain": [
              "False"
            ]
          },
          "metadata": {},
          "execution_count": 52
        }
      ]
    },
    {
      "cell_type": "code",
      "source": [
        "df['order_id'].duplicated().any()"
      ],
      "metadata": {
        "colab": {
          "base_uri": "https://localhost:8080/"
        },
        "id": "C67sCq5OkPy2",
        "outputId": "9535311a-0334-4f09-a3f2-dfa07e4112e7"
      },
      "execution_count": 53,
      "outputs": [
        {
          "output_type": "execute_result",
          "data": {
            "text/plain": [
              "True"
            ]
          },
          "metadata": {},
          "execution_count": 53
        }
      ]
    },
    {
      "cell_type": "code",
      "source": [
        "df.head()"
      ],
      "metadata": {
        "colab": {
          "base_uri": "https://localhost:8080/",
          "height": 206
        },
        "id": "7BpIRG3dkjyd",
        "outputId": "7f155492-4add-4082-87f4-ec3cd42acfdf"
      },
      "execution_count": 57,
      "outputs": [
        {
          "output_type": "execute_result",
          "data": {
            "text/plain": [
              "   order_id  quantity                              item_name  \\\n",
              "0         1         1           Chips and Fresh Tomato Salsa   \n",
              "1         1         1                                   Izze   \n",
              "2         1         1                       Nantucket Nectar   \n",
              "3         1         1  Chips and Tomatillo Green Chili Salsa   \n",
              "4         2         2                           Chicken Bowl   \n",
              "\n",
              "                                  choice_description item_price  \n",
              "0                           No description Available      2.39   \n",
              "1                                         Clementine      3.39   \n",
              "2                                              Apple      3.39   \n",
              "3                           No description Available      2.39   \n",
              "4  Tomatillo-Red Chili Salsa (Hot), Black Beans, ...     16.98   "
            ],
            "text/html": [
              "\n",
              "  <div id=\"df-ae0a4524-f0c0-4788-982a-102d7dd9a94d\" class=\"colab-df-container\">\n",
              "    <div>\n",
              "<style scoped>\n",
              "    .dataframe tbody tr th:only-of-type {\n",
              "        vertical-align: middle;\n",
              "    }\n",
              "\n",
              "    .dataframe tbody tr th {\n",
              "        vertical-align: top;\n",
              "    }\n",
              "\n",
              "    .dataframe thead th {\n",
              "        text-align: right;\n",
              "    }\n",
              "</style>\n",
              "<table border=\"1\" class=\"dataframe\">\n",
              "  <thead>\n",
              "    <tr style=\"text-align: right;\">\n",
              "      <th></th>\n",
              "      <th>order_id</th>\n",
              "      <th>quantity</th>\n",
              "      <th>item_name</th>\n",
              "      <th>choice_description</th>\n",
              "      <th>item_price</th>\n",
              "    </tr>\n",
              "  </thead>\n",
              "  <tbody>\n",
              "    <tr>\n",
              "      <th>0</th>\n",
              "      <td>1</td>\n",
              "      <td>1</td>\n",
              "      <td>Chips and Fresh Tomato Salsa</td>\n",
              "      <td>No description Available</td>\n",
              "      <td>2.39</td>\n",
              "    </tr>\n",
              "    <tr>\n",
              "      <th>1</th>\n",
              "      <td>1</td>\n",
              "      <td>1</td>\n",
              "      <td>Izze</td>\n",
              "      <td>Clementine</td>\n",
              "      <td>3.39</td>\n",
              "    </tr>\n",
              "    <tr>\n",
              "      <th>2</th>\n",
              "      <td>1</td>\n",
              "      <td>1</td>\n",
              "      <td>Nantucket Nectar</td>\n",
              "      <td>Apple</td>\n",
              "      <td>3.39</td>\n",
              "    </tr>\n",
              "    <tr>\n",
              "      <th>3</th>\n",
              "      <td>1</td>\n",
              "      <td>1</td>\n",
              "      <td>Chips and Tomatillo Green Chili Salsa</td>\n",
              "      <td>No description Available</td>\n",
              "      <td>2.39</td>\n",
              "    </tr>\n",
              "    <tr>\n",
              "      <th>4</th>\n",
              "      <td>2</td>\n",
              "      <td>2</td>\n",
              "      <td>Chicken Bowl</td>\n",
              "      <td>Tomatillo-Red Chili Salsa (Hot), Black Beans, ...</td>\n",
              "      <td>16.98</td>\n",
              "    </tr>\n",
              "  </tbody>\n",
              "</table>\n",
              "</div>\n",
              "    <div class=\"colab-df-buttons\">\n",
              "\n",
              "  <div class=\"colab-df-container\">\n",
              "    <button class=\"colab-df-convert\" onclick=\"convertToInteractive('df-ae0a4524-f0c0-4788-982a-102d7dd9a94d')\"\n",
              "            title=\"Convert this dataframe to an interactive table.\"\n",
              "            style=\"display:none;\">\n",
              "\n",
              "  <svg xmlns=\"http://www.w3.org/2000/svg\" height=\"24px\" viewBox=\"0 -960 960 960\">\n",
              "    <path d=\"M120-120v-720h720v720H120Zm60-500h600v-160H180v160Zm220 220h160v-160H400v160Zm0 220h160v-160H400v160ZM180-400h160v-160H180v160Zm440 0h160v-160H620v160ZM180-180h160v-160H180v160Zm440 0h160v-160H620v160Z\"/>\n",
              "  </svg>\n",
              "    </button>\n",
              "\n",
              "  <style>\n",
              "    .colab-df-container {\n",
              "      display:flex;\n",
              "      gap: 12px;\n",
              "    }\n",
              "\n",
              "    .colab-df-convert {\n",
              "      background-color: #E8F0FE;\n",
              "      border: none;\n",
              "      border-radius: 50%;\n",
              "      cursor: pointer;\n",
              "      display: none;\n",
              "      fill: #1967D2;\n",
              "      height: 32px;\n",
              "      padding: 0 0 0 0;\n",
              "      width: 32px;\n",
              "    }\n",
              "\n",
              "    .colab-df-convert:hover {\n",
              "      background-color: #E2EBFA;\n",
              "      box-shadow: 0px 1px 2px rgba(60, 64, 67, 0.3), 0px 1px 3px 1px rgba(60, 64, 67, 0.15);\n",
              "      fill: #174EA6;\n",
              "    }\n",
              "\n",
              "    .colab-df-buttons div {\n",
              "      margin-bottom: 4px;\n",
              "    }\n",
              "\n",
              "    [theme=dark] .colab-df-convert {\n",
              "      background-color: #3B4455;\n",
              "      fill: #D2E3FC;\n",
              "    }\n",
              "\n",
              "    [theme=dark] .colab-df-convert:hover {\n",
              "      background-color: #434B5C;\n",
              "      box-shadow: 0px 1px 3px 1px rgba(0, 0, 0, 0.15);\n",
              "      filter: drop-shadow(0px 1px 2px rgba(0, 0, 0, 0.3));\n",
              "      fill: #FFFFFF;\n",
              "    }\n",
              "  </style>\n",
              "\n",
              "    <script>\n",
              "      const buttonEl =\n",
              "        document.querySelector('#df-ae0a4524-f0c0-4788-982a-102d7dd9a94d button.colab-df-convert');\n",
              "      buttonEl.style.display =\n",
              "        google.colab.kernel.accessAllowed ? 'block' : 'none';\n",
              "\n",
              "      async function convertToInteractive(key) {\n",
              "        const element = document.querySelector('#df-ae0a4524-f0c0-4788-982a-102d7dd9a94d');\n",
              "        const dataTable =\n",
              "          await google.colab.kernel.invokeFunction('convertToInteractive',\n",
              "                                                    [key], {});\n",
              "        if (!dataTable) return;\n",
              "\n",
              "        const docLinkHtml = 'Like what you see? Visit the ' +\n",
              "          '<a target=\"_blank\" href=https://colab.research.google.com/notebooks/data_table.ipynb>data table notebook</a>'\n",
              "          + ' to learn more about interactive tables.';\n",
              "        element.innerHTML = '';\n",
              "        dataTable['output_type'] = 'display_data';\n",
              "        await google.colab.output.renderOutput(dataTable, element);\n",
              "        const docLink = document.createElement('div');\n",
              "        docLink.innerHTML = docLinkHtml;\n",
              "        element.appendChild(docLink);\n",
              "      }\n",
              "    </script>\n",
              "  </div>\n",
              "\n",
              "\n",
              "<div id=\"df-9ccd6c2d-0556-4904-aeea-92310cf9fd41\">\n",
              "  <button class=\"colab-df-quickchart\" onclick=\"quickchart('df-9ccd6c2d-0556-4904-aeea-92310cf9fd41')\"\n",
              "            title=\"Suggest charts\"\n",
              "            style=\"display:none;\">\n",
              "\n",
              "<svg xmlns=\"http://www.w3.org/2000/svg\" height=\"24px\"viewBox=\"0 0 24 24\"\n",
              "     width=\"24px\">\n",
              "    <g>\n",
              "        <path d=\"M19 3H5c-1.1 0-2 .9-2 2v14c0 1.1.9 2 2 2h14c1.1 0 2-.9 2-2V5c0-1.1-.9-2-2-2zM9 17H7v-7h2v7zm4 0h-2V7h2v10zm4 0h-2v-4h2v4z\"/>\n",
              "    </g>\n",
              "</svg>\n",
              "  </button>\n",
              "\n",
              "<style>\n",
              "  .colab-df-quickchart {\n",
              "      --bg-color: #E8F0FE;\n",
              "      --fill-color: #1967D2;\n",
              "      --hover-bg-color: #E2EBFA;\n",
              "      --hover-fill-color: #174EA6;\n",
              "      --disabled-fill-color: #AAA;\n",
              "      --disabled-bg-color: #DDD;\n",
              "  }\n",
              "\n",
              "  [theme=dark] .colab-df-quickchart {\n",
              "      --bg-color: #3B4455;\n",
              "      --fill-color: #D2E3FC;\n",
              "      --hover-bg-color: #434B5C;\n",
              "      --hover-fill-color: #FFFFFF;\n",
              "      --disabled-bg-color: #3B4455;\n",
              "      --disabled-fill-color: #666;\n",
              "  }\n",
              "\n",
              "  .colab-df-quickchart {\n",
              "    background-color: var(--bg-color);\n",
              "    border: none;\n",
              "    border-radius: 50%;\n",
              "    cursor: pointer;\n",
              "    display: none;\n",
              "    fill: var(--fill-color);\n",
              "    height: 32px;\n",
              "    padding: 0;\n",
              "    width: 32px;\n",
              "  }\n",
              "\n",
              "  .colab-df-quickchart:hover {\n",
              "    background-color: var(--hover-bg-color);\n",
              "    box-shadow: 0 1px 2px rgba(60, 64, 67, 0.3), 0 1px 3px 1px rgba(60, 64, 67, 0.15);\n",
              "    fill: var(--button-hover-fill-color);\n",
              "  }\n",
              "\n",
              "  .colab-df-quickchart-complete:disabled,\n",
              "  .colab-df-quickchart-complete:disabled:hover {\n",
              "    background-color: var(--disabled-bg-color);\n",
              "    fill: var(--disabled-fill-color);\n",
              "    box-shadow: none;\n",
              "  }\n",
              "\n",
              "  .colab-df-spinner {\n",
              "    border: 2px solid var(--fill-color);\n",
              "    border-color: transparent;\n",
              "    border-bottom-color: var(--fill-color);\n",
              "    animation:\n",
              "      spin 1s steps(1) infinite;\n",
              "  }\n",
              "\n",
              "  @keyframes spin {\n",
              "    0% {\n",
              "      border-color: transparent;\n",
              "      border-bottom-color: var(--fill-color);\n",
              "      border-left-color: var(--fill-color);\n",
              "    }\n",
              "    20% {\n",
              "      border-color: transparent;\n",
              "      border-left-color: var(--fill-color);\n",
              "      border-top-color: var(--fill-color);\n",
              "    }\n",
              "    30% {\n",
              "      border-color: transparent;\n",
              "      border-left-color: var(--fill-color);\n",
              "      border-top-color: var(--fill-color);\n",
              "      border-right-color: var(--fill-color);\n",
              "    }\n",
              "    40% {\n",
              "      border-color: transparent;\n",
              "      border-right-color: var(--fill-color);\n",
              "      border-top-color: var(--fill-color);\n",
              "    }\n",
              "    60% {\n",
              "      border-color: transparent;\n",
              "      border-right-color: var(--fill-color);\n",
              "    }\n",
              "    80% {\n",
              "      border-color: transparent;\n",
              "      border-right-color: var(--fill-color);\n",
              "      border-bottom-color: var(--fill-color);\n",
              "    }\n",
              "    90% {\n",
              "      border-color: transparent;\n",
              "      border-bottom-color: var(--fill-color);\n",
              "    }\n",
              "  }\n",
              "</style>\n",
              "\n",
              "  <script>\n",
              "    async function quickchart(key) {\n",
              "      const quickchartButtonEl =\n",
              "        document.querySelector('#' + key + ' button');\n",
              "      quickchartButtonEl.disabled = true;  // To prevent multiple clicks.\n",
              "      quickchartButtonEl.classList.add('colab-df-spinner');\n",
              "      try {\n",
              "        const charts = await google.colab.kernel.invokeFunction(\n",
              "            'suggestCharts', [key], {});\n",
              "      } catch (error) {\n",
              "        console.error('Error during call to suggestCharts:', error);\n",
              "      }\n",
              "      quickchartButtonEl.classList.remove('colab-df-spinner');\n",
              "      quickchartButtonEl.classList.add('colab-df-quickchart-complete');\n",
              "    }\n",
              "    (() => {\n",
              "      let quickchartButtonEl =\n",
              "        document.querySelector('#df-9ccd6c2d-0556-4904-aeea-92310cf9fd41 button');\n",
              "      quickchartButtonEl.style.display =\n",
              "        google.colab.kernel.accessAllowed ? 'block' : 'none';\n",
              "    })();\n",
              "  </script>\n",
              "</div>\n",
              "\n",
              "    </div>\n",
              "  </div>\n"
            ]
          },
          "metadata": {},
          "execution_count": 57
        }
      ]
    },
    {
      "cell_type": "markdown",
      "source": [
        "8. **Item Name Standardization:**\n",
        "Question: Standardize the Item Name column. Are there variations that can be unified for better analysis?\n"
      ],
      "metadata": {
        "id": "IALu8Bptliey"
      }
    },
    {
      "cell_type": "code",
      "source": [
        "df[\"item_name\"]=df[\"item_name\"].str.strip() #remove leading and trailing whitespaces from each string."
      ],
      "metadata": {
        "id": "0WD8WNbBkqWC"
      },
      "execution_count": 61,
      "outputs": []
    },
    {
      "cell_type": "code",
      "source": [
        "df[\"item_name\"]"
      ],
      "metadata": {
        "colab": {
          "base_uri": "https://localhost:8080/"
        },
        "id": "xH26rxyTmDsV",
        "outputId": "ca125ba3-a432-4b0b-f6c7-3e3c9adc5bab"
      },
      "execution_count": 62,
      "outputs": [
        {
          "output_type": "execute_result",
          "data": {
            "text/plain": [
              "0                Chips and Fresh Tomato Salsa\n",
              "1                                        Izze\n",
              "2                            Nantucket Nectar\n",
              "3       Chips and Tomatillo Green Chili Salsa\n",
              "4                                Chicken Bowl\n",
              "                        ...                  \n",
              "4617                            Steak Burrito\n",
              "4618                            Steak Burrito\n",
              "4619                       Chicken Salad Bowl\n",
              "4620                       Chicken Salad Bowl\n",
              "4621                       Chicken Salad Bowl\n",
              "Name: item_name, Length: 4563, dtype: object"
            ]
          },
          "metadata": {},
          "execution_count": 62
        }
      ]
    },
    {
      "cell_type": "markdown",
      "source": [
        "9. **Quantity and Price Relationships:**\n",
        "Question: Investigate the relationships between Quantity and Item Price. Are there cases where adjustments need to be made for accurate analysis?\n"
      ],
      "metadata": {
        "id": "klsTuRYFnIi3"
      }
    },
    {
      "cell_type": "code",
      "source": [
        "print(df[['quantity', 'item_price']].describe())"
      ],
      "metadata": {
        "colab": {
          "base_uri": "https://localhost:8080/"
        },
        "id": "M325YWg0mXAr",
        "outputId": "c882afd3-f29e-4b18-ec44-8cd492c42fc3"
      },
      "execution_count": 63,
      "outputs": [
        {
          "output_type": "stream",
          "name": "stdout",
          "text": [
            "          quantity\n",
            "count  4563.000000\n",
            "mean      1.076704\n",
            "std       0.412739\n",
            "min       1.000000\n",
            "25%       1.000000\n",
            "50%       1.000000\n",
            "75%       1.000000\n",
            "max      15.000000\n"
          ]
        }
      ]
    },
    {
      "cell_type": "code",
      "source": [
        "import matplotlib.pyplot as plt\n",
        "plt.scatter(df['quantity'], df['item_price'])\n",
        "plt.xlabel('Quantity')\n",
        "plt.ylabel('Item Price')\n",
        "plt.title('Quantity vs. Item Price')\n",
        "plt.show()"
      ],
      "metadata": {
        "colab": {
          "base_uri": "https://localhost:8080/",
          "height": 472
        },
        "id": "Iug5cMXOnfNT",
        "outputId": "6be8a70c-76a7-4fc8-ad19-b2b136a29b04"
      },
      "execution_count": 64,
      "outputs": [
        {
          "output_type": "display_data",
          "data": {
            "text/plain": [
              "<Figure size 640x480 with 1 Axes>"
            ],
            "image/png": "[encoded data removed]"
          },
          "metadata": {}
        }
      ]
    },
    {
      "cell_type": "markdown",
      "source": [
        "10. **Data Integrity Check:**\n",
        "Question: Perform a data integrity check by ensuring that quantities and prices align with the corresponding items and descriptions.\n"
      ],
      "metadata": {
        "id": "c7__RvJ6oNtU"
      }
    },
    {
      "cell_type": "code",
      "source": [
        "grouped_data = df.groupby(['item_name', 'choice_description']).agg({\n",
        "    'quantity': 'sum',\n",
        "    'item_price': lambda x: x.astype(float).mean()\n",
        "}).reset_index()\n"
      ],
      "metadata": {
        "id": "conoEldYnn6S"
      },
      "execution_count": 67,
      "outputs": []
    },
    {
      "cell_type": "code",
      "source": [
        "grouped_data"
      ],
      "metadata": {
        "colab": {
          "base_uri": "https://localhost:8080/",
          "height": 424
        },
        "id": "pjJ4y2PNoyNI",
        "outputId": "0a97ab86-8ea4-4829-f45b-8d491ed2c541"
      },
      "execution_count": 71,
      "outputs": [
        {
          "output_type": "execute_result",
          "data": {
            "text/plain": [
              "              item_name                                 choice_description  \\\n",
              "0     6 Pack Soft Drink                                               Coke   \n",
              "1     6 Pack Soft Drink                                          Diet Coke   \n",
              "2     6 Pack Soft Drink                                           Lemonade   \n",
              "3     6 Pack Soft Drink                                             Nestea   \n",
              "4     6 Pack Soft Drink                                             Sprite   \n",
              "...                 ...                                                ...   \n",
              "1863  Veggie Soft Tacos  Fresh Tomato Salsa, Black Beans, Cheese, Sour ...   \n",
              "1864  Veggie Soft Tacos  Fresh Tomato Salsa, Fajita Vegetables, Rice, B...   \n",
              "1865  Veggie Soft Tacos  Roasted Chili Corn Salsa (Medium), Black Beans...   \n",
              "1866  Veggie Soft Tacos  Roasted Chili Corn Salsa, Fajita Vegetables, B...   \n",
              "1867  Veggie Soft Tacos  Tomatillo Red Chili Salsa, Fajita Vegetables, ...   \n",
              "\n",
              "      quantity  item_price  \n",
              "0           21    6.490000  \n",
              "1           25    6.760417  \n",
              "2            2    6.490000  \n",
              "3            2    6.490000  \n",
              "4            5    6.490000  \n",
              "...        ...         ...  \n",
              "1863         1    8.750000  \n",
              "1864         1   11.250000  \n",
              "1865         1    8.490000  \n",
              "1866         1    8.750000  \n",
              "1867         1   11.250000  \n",
              "\n",
              "[1868 rows x 4 columns]"
            ],
            "text/html": [
              "\n",
              "  <div id=\"df-5ccb8d90-c3d0-47ad-9781-20be904bb4ce\" class=\"colab-df-container\">\n",
              "    <div>\n",
              "<style scoped>\n",
              "    .dataframe tbody tr th:only-of-type {\n",
              "        vertical-align: middle;\n",
              "    }\n",
              "\n",
              "    .dataframe tbody tr th {\n",
              "        vertical-align: top;\n",
              "    }\n",
              "\n",
              "    .dataframe thead th {\n",
              "        text-align: right;\n",
              "    }\n",
              "</style>\n",
              "<table border=\"1\" class=\"dataframe\">\n",
              "  <thead>\n",
              "    <tr style=\"text-align: right;\">\n",
              "      <th></th>\n",
              "      <th>item_name</th>\n",
              "      <th>choice_description</th>\n",
              "      <th>quantity</th>\n",
              "      <th>item_price</th>\n",
              "    </tr>\n",
              "  </thead>\n",
              "  <tbody>\n",
              "    <tr>\n",
              "      <th>0</th>\n",
              "      <td>6 Pack Soft Drink</td>\n",
              "      <td>Coke</td>\n",
              "      <td>21</td>\n",
              "      <td>6.490000</td>\n",
              "    </tr>\n",
              "    <tr>\n",
              "      <th>1</th>\n",
              "      <td>6 Pack Soft Drink</td>\n",
              "      <td>Diet Coke</td>\n",
              "      <td>25</td>\n",
              "      <td>6.760417</td>\n",
              "    </tr>\n",
              "    <tr>\n",
              "      <th>2</th>\n",
              "      <td>6 Pack Soft Drink</td>\n",
              "      <td>Lemonade</td>\n",
              "      <td>2</td>\n",
              "      <td>6.490000</td>\n",
              "    </tr>\n",
              "    <tr>\n",
              "      <th>3</th>\n",
              "      <td>6 Pack Soft Drink</td>\n",
              "      <td>Nestea</td>\n",
              "      <td>2</td>\n",
              "      <td>6.490000</td>\n",
              "    </tr>\n",
              "    <tr>\n",
              "      <th>4</th>\n",
              "      <td>6 Pack Soft Drink</td>\n",
              "      <td>Sprite</td>\n",
              "      <td>5</td>\n",
              "      <td>6.490000</td>\n",
              "    </tr>\n",
              "    <tr>\n",
              "      <th>...</th>\n",
              "      <td>...</td>\n",
              "      <td>...</td>\n",
              "      <td>...</td>\n",
              "      <td>...</td>\n",
              "    </tr>\n",
              "    <tr>\n",
              "      <th>1863</th>\n",
              "      <td>Veggie Soft Tacos</td>\n",
              "      <td>Fresh Tomato Salsa, Black Beans, Cheese, Sour ...</td>\n",
              "      <td>1</td>\n",
              "      <td>8.750000</td>\n",
              "    </tr>\n",
              "    <tr>\n",
              "      <th>1864</th>\n",
              "      <td>Veggie Soft Tacos</td>\n",
              "      <td>Fresh Tomato Salsa, Fajita Vegetables, Rice, B...</td>\n",
              "      <td>1</td>\n",
              "      <td>11.250000</td>\n",
              "    </tr>\n",
              "    <tr>\n",
              "      <th>1865</th>\n",
              "      <td>Veggie Soft Tacos</td>\n",
              "      <td>Roasted Chili Corn Salsa (Medium), Black Beans...</td>\n",
              "      <td>1</td>\n",
              "      <td>8.490000</td>\n",
              "    </tr>\n",
              "    <tr>\n",
              "      <th>1866</th>\n",
              "      <td>Veggie Soft Tacos</td>\n",
              "      <td>Roasted Chili Corn Salsa, Fajita Vegetables, B...</td>\n",
              "      <td>1</td>\n",
              "      <td>8.750000</td>\n",
              "    </tr>\n",
              "    <tr>\n",
              "      <th>1867</th>\n",
              "      <td>Veggie Soft Tacos</td>\n",
              "      <td>Tomatillo Red Chili Salsa, Fajita Vegetables, ...</td>\n",
              "      <td>1</td>\n",
              "      <td>11.250000</td>\n",
              "    </tr>\n",
              "  </tbody>\n",
              "</table>\n",
              "<p>1868 rows × 4 columns</p>\n",
              "</div>\n",
              "    <div class=\"colab-df-buttons\">\n",
              "\n",
              "  <div class=\"colab-df-container\">\n",
              "    <button class=\"colab-df-convert\" onclick=\"convertToInteractive('df-5ccb8d90-c3d0-47ad-9781-20be904bb4ce')\"\n",
              "            title=\"Convert this dataframe to an interactive table.\"\n",
              "            style=\"display:none;\">\n",
              "\n",
              "  <svg xmlns=\"http://www.w3.org/2000/svg\" height=\"24px\" viewBox=\"0 -960 960 960\">\n",
              "    <path d=\"M120-120v-720h720v720H120Zm60-500h600v-160H180v160Zm220 220h160v-160H400v160Zm0 220h160v-160H400v160ZM180-400h160v-160H180v160Zm440 0h160v-160H620v160ZM180-180h160v-160H180v160Zm440 0h160v-160H620v160Z\"/>\n",
              "  </svg>\n",
              "    </button>\n",
              "\n",
              "  <style>\n",
              "    .colab-df-container {\n",
              "      display:flex;\n",
              "      gap: 12px;\n",
              "    }\n",
              "\n",
              "    .colab-df-convert {\n",
              "      background-color: #E8F0FE;\n",
              "      border: none;\n",
              "      border-radius: 50%;\n",
              "      cursor: pointer;\n",
              "      display: none;\n",
              "      fill: #1967D2;\n",
              "      height: 32px;\n",
              "      padding: 0 0 0 0;\n",
              "      width: 32px;\n",
              "    }\n",
              "\n",
              "    .colab-df-convert:hover {\n",
              "      background-color: #E2EBFA;\n",
              "      box-shadow: 0px 1px 2px rgba(60, 64, 67, 0.3), 0px 1px 3px 1px rgba(60, 64, 67, 0.15);\n",
              "      fill: #174EA6;\n",
              "    }\n",
              "\n",
              "    .colab-df-buttons div {\n",
              "      margin-bottom: 4px;\n",
              "    }\n",
              "\n",
              "    [theme=dark] .colab-df-convert {\n",
              "      background-color: #3B4455;\n",
              "      fill: #D2E3FC;\n",
              "    }\n",
              "\n",
              "    [theme=dark] .colab-df-convert:hover {\n",
              "      background-color: #434B5C;\n",
              "      box-shadow: 0px 1px 3px 1px rgba(0, 0, 0, 0.15);\n",
              "      filter: drop-shadow(0px 1px 2px rgba(0, 0, 0, 0.3));\n",
              "      fill: #FFFFFF;\n",
              "    }\n",
              "  </style>\n",
              "\n",
              "    <script>\n",
              "      const buttonEl =\n",
              "        document.querySelector('#df-5ccb8d90-c3d0-47ad-9781-20be904bb4ce button.colab-df-convert');\n",
              "      buttonEl.style.display =\n",
              "        google.colab.kernel.accessAllowed ? 'block' : 'none';\n",
              "\n",
              "      async function convertToInteractive(key) {\n",
              "        const element = document.querySelector('#df-5ccb8d90-c3d0-47ad-9781-20be904bb4ce');\n",
              "        const dataTable =\n",
              "          await google.colab.kernel.invokeFunction('convertToInteractive',\n",
              "                                                    [key], {});\n",
              "        if (!dataTable) return;\n",
              "\n",
              "        const docLinkHtml = 'Like what you see? Visit the ' +\n",
              "          '<a target=\"_blank\" href=https://colab.research.google.com/notebooks/data_table.ipynb>data table notebook</a>'\n",
              "          + ' to learn more about interactive tables.';\n",
              "        element.innerHTML = '';\n",
              "        dataTable['output_type'] = 'display_data';\n",
              "        await google.colab.output.renderOutput(dataTable, element);\n",
              "        const docLink = document.createElement('div');\n",
              "        docLink.innerHTML = docLinkHtml;\n",
              "        element.appendChild(docLink);\n",
              "      }\n",
              "    </script>\n",
              "  </div>\n",
              "\n",
              "\n",
              "<div id=\"df-0b1f32c3-c409-4a86-aeeb-c7374bae5d78\">\n",
              "  <button class=\"colab-df-quickchart\" onclick=\"quickchart('df-0b1f32c3-c409-4a86-aeeb-c7374bae5d78')\"\n",
              "            title=\"Suggest charts\"\n",
              "            style=\"display:none;\">\n",
              "\n",
              "<svg xmlns=\"http://www.w3.org/2000/svg\" height=\"24px\"viewBox=\"0 0 24 24\"\n",
              "     width=\"24px\">\n",
              "    <g>\n",
              "        <path d=\"M19 3H5c-1.1 0-2 .9-2 2v14c0 1.1.9 2 2 2h14c1.1 0 2-.9 2-2V5c0-1.1-.9-2-2-2zM9 17H7v-7h2v7zm4 0h-2V7h2v10zm4 0h-2v-4h2v4z\"/>\n",
              "    </g>\n",
              "</svg>\n",
              "  </button>\n",
              "\n",
              "<style>\n",
              "  .colab-df-quickchart {\n",
              "      --bg-color: #E8F0FE;\n",
              "      --fill-color: #1967D2;\n",
              "      --hover-bg-color: #E2EBFA;\n",
              "      --hover-fill-color: #174EA6;\n",
              "      --disabled-fill-color: #AAA;\n",
              "      --disabled-bg-color: #DDD;\n",
              "  }\n",
              "\n",
              "  [theme=dark] .colab-df-quickchart {\n",
              "      --bg-color: #3B4455;\n",
              "      --fill-color: #D2E3FC;\n",
              "      --hover-bg-color: #434B5C;\n",
              "      --hover-fill-color: #FFFFFF;\n",
              "      --disabled-bg-color: #3B4455;\n",
              "      --disabled-fill-color: #666;\n",
              "  }\n",
              "\n",
              "  .colab-df-quickchart {\n",
              "    background-color: var(--bg-color);\n",
              "    border: none;\n",
              "    border-radius: 50%;\n",
              "    cursor: pointer;\n",
              "    display: none;\n",
              "    fill: var(--fill-color);\n",
              "    height: 32px;\n",
              "    padding: 0;\n",
              "    width: 32px;\n",
              "  }\n",
              "\n",
              "  .colab-df-quickchart:hover {\n",
              "    background-color: var(--hover-bg-color);\n",
              "    box-shadow: 0 1px 2px rgba(60, 64, 67, 0.3), 0 1px 3px 1px rgba(60, 64, 67, 0.15);\n",
              "    fill: var(--button-hover-fill-color);\n",
              "  }\n",
              "\n",
              "  .colab-df-quickchart-complete:disabled,\n",
              "  .colab-df-quickchart-complete:disabled:hover {\n",
              "    background-color: var(--disabled-bg-color);\n",
              "    fill: var(--disabled-fill-color);\n",
              "    box-shadow: none;\n",
              "  }\n",
              "\n",
              "  .colab-df-spinner {\n",
              "    border: 2px solid var(--fill-color);\n",
              "    border-color: transparent;\n",
              "    border-bottom-color: var(--fill-color);\n",
              "    animation:\n",
              "      spin 1s steps(1) infinite;\n",
              "  }\n",
              "\n",
              "  @keyframes spin {\n",
              "    0% {\n",
              "      border-color: transparent;\n",
              "      border-bottom-color: var(--fill-color);\n",
              "      border-left-color: var(--fill-color);\n",
              "    }\n",
              "    20% {\n",
              "      border-color: transparent;\n",
              "      border-left-color: var(--fill-color);\n",
              "      border-top-color: var(--fill-color);\n",
              "    }\n",
              "    30% {\n",
              "      border-color: transparent;\n",
              "      border-left-color: var(--fill-color);\n",
              "      border-top-color: var(--fill-color);\n",
              "      border-right-color: var(--fill-color);\n",
              "    }\n",
              "    40% {\n",
              "      border-color: transparent;\n",
              "      border-right-color: var(--fill-color);\n",
              "      border-top-color: var(--fill-color);\n",
              "    }\n",
              "    60% {\n",
              "      border-color: transparent;\n",
              "      border-right-color: var(--fill-color);\n",
              "    }\n",
              "    80% {\n",
              "      border-color: transparent;\n",
              "      border-right-color: var(--fill-color);\n",
              "      border-bottom-color: var(--fill-color);\n",
              "    }\n",
              "    90% {\n",
              "      border-color: transparent;\n",
              "      border-bottom-color: var(--fill-color);\n",
              "    }\n",
              "  }\n",
              "</style>\n",
              "\n",
              "  <script>\n",
              "    async function quickchart(key) {\n",
              "      const quickchartButtonEl =\n",
              "        document.querySelector('#' + key + ' button');\n",
              "      quickchartButtonEl.disabled = true;  // To prevent multiple clicks.\n",
              "      quickchartButtonEl.classList.add('colab-df-spinner');\n",
              "      try {\n",
              "        const charts = await google.colab.kernel.invokeFunction(\n",
              "            'suggestCharts', [key], {});\n",
              "      } catch (error) {\n",
              "        console.error('Error during call to suggestCharts:', error);\n",
              "      }\n",
              "      quickchartButtonEl.classList.remove('colab-df-spinner');\n",
              "      quickchartButtonEl.classList.add('colab-df-quickchart-complete');\n",
              "    }\n",
              "    (() => {\n",
              "      let quickchartButtonEl =\n",
              "        document.querySelector('#df-0b1f32c3-c409-4a86-aeeb-c7374bae5d78 button');\n",
              "      quickchartButtonEl.style.display =\n",
              "        google.colab.kernel.accessAllowed ? 'block' : 'none';\n",
              "    })();\n",
              "  </script>\n",
              "</div>\n",
              "\n",
              "  <div id=\"id_0a12dab8-0aac-4a63-b8ff-739865626a2f\">\n",
              "    <style>\n",
              "      .colab-df-generate {\n",
              "        background-color: #E8F0FE;\n",
              "        border: none;\n",
              "        border-radius: 50%;\n",
              "        cursor: pointer;\n",
              "        display: none;\n",
              "        fill: #1967D2;\n",
              "        height: 32px;\n",
              "        padding: 0 0 0 0;\n",
              "        width: 32px;\n",
              "      }\n",
              "\n",
              "      .colab-df-generate:hover {\n",
              "        background-color: #E2EBFA;\n",
              "        box-shadow: 0px 1px 2px rgba(60, 64, 67, 0.3), 0px 1px 3px 1px rgba(60, 64, 67, 0.15);\n",
              "        fill: #174EA6;\n",
              "      }\n",
              "\n",
              "      [theme=dark] .colab-df-generate {\n",
              "        background-color: #3B4455;\n",
              "        fill: #D2E3FC;\n",
              "      }\n",
              "\n",
              "      [theme=dark] .colab-df-generate:hover {\n",
              "        background-color: #434B5C;\n",
              "        box-shadow: 0px 1px 3px 1px rgba(0, 0, 0, 0.15);\n",
              "        filter: drop-shadow(0px 1px 2px rgba(0, 0, 0, 0.3));\n",
              "        fill: #FFFFFF;\n",
              "      }\n",
              "    </style>\n",
              "    <button class=\"colab-df-generate\" onclick=\"generateWithVariable('grouped_data')\"\n",
              "            title=\"Generate code using this dataframe.\"\n",
              "            style=\"display:none;\">\n",
              "\n",
              "  <svg xmlns=\"http://www.w3.org/2000/svg\" height=\"24px\"viewBox=\"0 0 24 24\"\n",
              "       width=\"24px\">\n",
              "    <path d=\"M7,19H8.4L18.45,9,17,7.55,7,17.6ZM5,21V16.75L18.45,3.32a2,2,0,0,1,2.83,0l1.4,1.43a1.91,1.91,0,0,1,.58,1.4,1.91,1.91,0,0,1-.58,1.4L9.25,21ZM18.45,9,17,7.55Zm-12,3A5.31,5.31,0,0,0,4.9,8.1,5.31,5.31,0,0,0,1,6.5,5.31,5.31,0,0,0,4.9,4.9,5.31,5.31,0,0,0,6.5,1,5.31,5.31,0,0,0,8.1,4.9,5.31,5.31,0,0,0,12,6.5,5.46,5.46,0,0,0,6.5,12Z\"/>\n",
              "  </svg>\n",
              "    </button>\n",
              "    <script>\n",
              "      (() => {\n",
              "      const buttonEl =\n",
              "        document.querySelector('#id_0a12dab8-0aac-4a63-b8ff-739865626a2f button.colab-df-generate');\n",
              "      buttonEl.style.display =\n",
              "        google.colab.kernel.accessAllowed ? 'block' : 'none';\n",
              "\n",
              "      buttonEl.onclick = () => {\n",
              "        google.colab.notebook.generateWithVariable('grouped_data');\n",
              "      }\n",
              "      })();\n",
              "    </script>\n",
              "  </div>\n",
              "\n",
              "    </div>\n",
              "  </div>\n"
            ]
          },
          "metadata": {},
          "execution_count": 71
        }
      ]
    },
    {
      "cell_type": "code",
      "source": [
        "df.to_csv(\"cleaned_chipotle.csv\",sep=\",\")"
      ],
      "metadata": {
        "id": "_j1oA35xpOqU"
      },
      "execution_count": 72,
      "outputs": []
    },
    {
      "cell_type": "markdown",
      "source": [
        "12. **Handling Categorical Data:**\n",
        "Question: For categorical columns (e.g., Item Name), consider encoding or transforming them into a format suitable for analysis.\n"
      ],
      "metadata": {
        "id": "xVr27XiQqb8p"
      }
    },
    {
      "cell_type": "code",
      "source": [
        "from sklearn.preprocessing import LabelEncoder\n",
        "\n",
        "encoder = LabelEncoder()\n",
        "df['item_name_encoded'] = encoder.fit_transform(df['item_name'])"
      ],
      "metadata": {
        "id": "fv2eal6kqAqV"
      },
      "execution_count": 73,
      "outputs": []
    },
    {
      "cell_type": "code",
      "source": [
        "df[\"item_name_encoded\"].unique()"
      ],
      "metadata": {
        "colab": {
          "base_uri": "https://localhost:8080/"
        },
        "id": "-hANyxafrDsk",
        "outputId": "cddbb496-1cdf-4ce9-cb2e-5b28783f63e8"
      },
      "execution_count": 75,
      "outputs": [
        {
          "output_type": "execute_result",
          "data": {
            "text/plain": [
              "array([24, 31, 32, 28, 17, 34, 36, 40, 25, 19, 22, 18,  9,  2, 12, 11,  6,\n",
              "        1, 23, 21, 35,  5, 42, 41, 37, 29,  3, 45, 27, 16, 20, 10, 39,  0,\n",
              "        7,  8, 30, 13, 38, 26, 46, 15,  4, 33, 43, 44, 14])"
            ]
          },
          "metadata": {},
          "execution_count": 75
        }
      ]
    },
    {
      "cell_type": "markdown",
      "source": [
        "13. **Consistent Quantity and Price Units:**\n",
        "Question: Ensure consistency in units for Quantity and Item Price. Should any conversions or adjustments be made for uniform analysis?\n"
      ],
      "metadata": {
        "id": "cZ31NpnZsb88"
      }
    },
    {
      "cell_type": "code",
      "source": [
        "df['Quantity-Dozen'] = df['quantity'] * 12  # Convert dozens to individual items\n"
      ],
      "metadata": {
        "id": "AjdKoO00rHmW"
      },
      "execution_count": 77,
      "outputs": []
    },
    {
      "cell_type": "code",
      "source": [
        "df['Quantity-Dozen'].unique()"
      ],
      "metadata": {
        "colab": {
          "base_uri": "https://localhost:8080/"
        },
        "id": "q1IBf4CdsiUe",
        "outputId": "6e22632c-bc6a-4024-f6fe-a820d5e7d8cc"
      },
      "execution_count": 79,
      "outputs": [
        {
          "output_type": "execute_result",
          "data": {
            "text/plain": [
              "array([ 12,  24,  36,  48,  60, 180,  84,  96, 120])"
            ]
          },
          "metadata": {},
          "execution_count": 79
        }
      ]
    },
    {
      "cell_type": "code",
      "source": [],
      "metadata": {
        "id": "N-a3Ceh_tJ_2"
      },
      "execution_count": null,
      "outputs": []
    }
  ]
}